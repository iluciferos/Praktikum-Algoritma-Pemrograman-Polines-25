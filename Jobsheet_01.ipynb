{
  "nbformat": 4,
  "nbformat_minor": 0,
  "metadata": {
    "colab": {
      "provenance": [],
      "authorship_tag": "ABX9TyNzPMlkdVOcN0SvLbsZCeaX",
      "include_colab_link": true
    },
    "kernelspec": {
      "name": "python3",
      "display_name": "Python 3"
    },
    "language_info": {
      "name": "python"
    }
  },
  "cells": [
    {
      "cell_type": "markdown",
      "metadata": {
        "id": "view-in-github",
        "colab_type": "text"
      },
      "source": [
        "<a href=\"https://colab.research.google.com/github/iluciferos/Praktikum-Algoritma-Pemrograman-Polines-25/blob/main/Jobsheet_01.ipynb\" target=\"_parent\"><img src=\"https://colab.research.google.com/assets/colab-badge.svg\" alt=\"Open In Colab\"/></a>"
      ]
    },
    {
      "cell_type": "markdown",
      "source": [
        "Praktikum 01 : Menghitung Luas Segitiga"
      ],
      "metadata": {
        "id": "YPdtwex_2bV7"
      }
    },
    {
      "cell_type": "code",
      "source": [
        " p = int(input(\"masukkan panjang:\"))\n",
        " l = int(input(\"masukkan lebar:\"))\n",
        " luas = p*l\n",
        " print(\"luas persegi panjang adalah:\",luas)"
      ],
      "metadata": {
        "colab": {
          "base_uri": "https://localhost:8080/"
        },
        "id": "y4HJQ5Tx2kcp",
        "outputId": "5b0c1361-a2fa-4a5f-937d-8e089e3e899e"
      },
      "execution_count": 14,
      "outputs": [
        {
          "output_type": "stream",
          "name": "stdout",
          "text": [
            "masukkan panjang:5\n",
            "masukkan lebar:5\n",
            "luas persegi panjang adalah: 25\n"
          ]
        }
      ]
    },
    {
      "cell_type": "markdown",
      "source": [
        "Praktikum 02 : Menghitung Luas Segitiga (Rumus Heron)"
      ],
      "metadata": {
        "id": "mwkmdI_j4Ooy"
      }
    },
    {
      "cell_type": "code",
      "source": [
        "import math\n",
        "\n",
        "a = float(input (\"masukkan nilai a:\"))\n",
        "b = float(input (\"masukkan nilai b:\"))\n",
        "c = float(input (\"masukkan nilai c:\"))\n",
        "\n",
        "s = (a+b+c)/2\n",
        "luas = math.sqrt(s*(s-a)*(s-b)*(s-c))\n",
        "print(\"luas segitiga adalah:\",luas)"
      ],
      "metadata": {
        "colab": {
          "base_uri": "https://localhost:8080/"
        },
        "id": "HotPvwgx4e01",
        "outputId": "9a73983b-b6ad-4f91-e8b0-45900ba2ab77"
      },
      "execution_count": null,
      "outputs": [
        {
          "output_type": "stream",
          "name": "stdout",
          "text": [
            "masukkan nilai a:3\n",
            "masukkan nilai b:4\n",
            "masukkan nilai c:5\n",
            "luas segitiga adalah: 6.0\n"
          ]
        }
      ]
    },
    {
      "cell_type": "markdown",
      "source": [
        "Praktikum 03 : Konversi Suhu Celcius ke Fahrenheit"
      ],
      "metadata": {
        "id": "12SkSCFY9YDI"
      }
    },
    {
      "cell_type": "code",
      "source": [
        "c = float(input(\"masukkan suhu celcius:\"))\n",
        "f = (9/5)*c+32\n",
        "print(\"suhu fahrenheit adalah:\",f)"
      ],
      "metadata": {
        "colab": {
          "base_uri": "https://localhost:8080/"
        },
        "id": "ziBzLl0P9gvh",
        "outputId": "065e4a89-54ef-44ac-ead2-2938fa166cb7"
      },
      "execution_count": null,
      "outputs": [
        {
          "output_type": "stream",
          "name": "stdout",
          "text": [
            "masukkan suhu celcius:50\n",
            "suhu fahrenheit adalah: 122.0\n"
          ]
        }
      ]
    },
    {
      "cell_type": "markdown",
      "source": [
        "Praktikum 04 : Menghitung Umur Berdasarkan Tahun Lahir"
      ],
      "metadata": {
        "id": "xkZC6-qq9lu9"
      }
    },
    {
      "cell_type": "code",
      "source": [
        "tahunLahir = int(input(\"masukkan tahun lahir:\"))\n",
        "tahunSekarang = 2025\n",
        "umur = tahunSekarang - tahunLahir\n",
        "print(\"umur anda adalah:\",umur,\"tahun\")"
      ],
      "metadata": {
        "colab": {
          "base_uri": "https://localhost:8080/"
        },
        "id": "qZqh-cfa9jOs",
        "outputId": "6172b2af-266d-4ec3-a7cb-bccb28687602"
      },
      "execution_count": 16,
      "outputs": [
        {
          "output_type": "stream",
          "name": "stdout",
          "text": [
            "masukkan tahun lahir:2006\n",
            "umur anda adalah: 19 tahun\n"
          ]
        }
      ]
    },
    {
      "cell_type": "markdown",
      "source": [
        "Praktikum 05 : Menghitung Luas Lingkaran"
      ],
      "metadata": {
        "id": "r9Qt-sXSRQCL"
      }
    },
    {
      "cell_type": "code",
      "source": [
        "import math\n",
        "r = float(input(\"Masukkan jari-jari lingkaran: \"))\n",
        "luas = math.pi * r * r\n",
        "print(\"Luas lingkaran adalah:\", luas)"
      ],
      "metadata": {
        "colab": {
          "base_uri": "https://localhost:8080/"
        },
        "id": "gOT0ouj_90Wc",
        "outputId": "7d490b6d-8722-4294-f7c3-13c5540d9e65"
      },
      "execution_count": null,
      "outputs": [
        {
          "output_type": "stream",
          "name": "stdout",
          "text": [
            "Masukkan jari-jari lingkaran: 5\n",
            "Luas lingkaran adalah: 78.53981633974483\n"
          ]
        }
      ]
    },
    {
      "cell_type": "markdown",
      "source": [
        "Praktikum 06 : Menjumlahkan Tiga Bilangan"
      ],
      "metadata": {
        "id": "FW9YNP_F-Twq"
      }
    },
    {
      "cell_type": "code",
      "source": [
        "a = int(input(\"Masukkan bilangan pertama:\"))\n",
        "b = int(input(\"Masukkan bilangan kedua: \"))\n",
        "c = int(input(\"Masukkan bilangan ketiga: \"))\n",
        "jumlah = a+b+c\n",
        "print(\"Jumlah =\", jumlah)"
      ],
      "metadata": {
        "colab": {
          "base_uri": "https://localhost:8080/"
        },
        "id": "M_6w0ed3-TY2",
        "outputId": "6def8a54-d419-459b-8401-feebf13bb157"
      },
      "execution_count": null,
      "outputs": [
        {
          "output_type": "stream",
          "name": "stdout",
          "text": [
            "Masukkan bilangan pertama:2\n",
            "Masukkan bilangan kedua: 3\n",
            "Masukkan bilangan ketiga: 4\n",
            "Jumlah = 9\n"
          ]
        }
      ]
    }
  ]
}