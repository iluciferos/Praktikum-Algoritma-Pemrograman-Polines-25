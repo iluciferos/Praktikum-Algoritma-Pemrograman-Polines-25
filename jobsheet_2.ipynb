{
  "nbformat": 4,
  "nbformat_minor": 0,
  "metadata": {
    "colab": {
      "provenance": [],
      "authorship_tag": "ABX9TyMeCtnF2NFynr5TbJs3HN/R",
      "include_colab_link": true
    },
    "kernelspec": {
      "name": "python3",
      "display_name": "Python 3"
    },
    "language_info": {
      "name": "python"
    }
  },
  "cells": [
    {
      "cell_type": "markdown",
      "metadata": {
        "id": "view-in-github",
        "colab_type": "text"
      },
      "source": [
        "<a href=\"https://colab.research.google.com/github/iluciferos/Praktikum-Algoritma-Pemrograman-Polines-25/blob/Jobsheet-2/jobsheet_2.ipynb\" target=\"_parent\"><img src=\"https://colab.research.google.com/assets/colab-badge.svg\" alt=\"Open In Colab\"/></a>"
      ]
    },
    {
      "cell_type": "markdown",
      "source": [
        "# **Praktikum**"
      ],
      "metadata": {
        "id": "90MsJyxFXNko"
      }
    },
    {
      "cell_type": "markdown",
      "source": [
        "### Praktikum 01 - Pengenalan Variabel dan Tipe Data"
      ],
      "metadata": {
        "id": "d3ROtxUB70E1"
      }
    },
    {
      "cell_type": "code",
      "source": [
        "# Integer\n",
        "umur = 20\n",
        "print (\"Umur:\", umur, \"->\", type (umur))\n",
        "\n",
        "# Float\n",
        "tinggi = 170.5\n",
        "print (\"Tinggi:\", tinggi, \"->\", type (tinggi))\n",
        "\n",
        "# String\n",
        "nama = \"Andi\"\n",
        "print (\"Nama:\", nama, \"->\", type(nama))\n",
        "\n",
        "# Boolean\n",
        "is_mahasiswa = True\n",
        "print(\"Status Mahasiswa:\", is_mahasiswa, \"->\", type(is_mahasiswa))\n",
        "\n",
        "# List\n",
        "nilai = [80, 85, 90]\n",
        "print (\"Nilai:\", nilai, \"->\", type(nilai))\n",
        "\n",
        "# Tuple\n",
        "koordinat = (10, 20)\n",
        "print(\"koordinat:\", koordinat, \"->\", type(koordinat))\n",
        "\n",
        "# Dictionary\n",
        "mahasiswa = {\"nama\": \"Andi\", \"umur\": 20, \"prodi\": \"TRK\"}\n",
        "print(\"Data Mahasiswa:\", mahasiswa, \"->\", type(mahasiswa))\n",
        "\n",
        "# Set\n",
        "hobi =  {\"membaca\", \"olahraga\", \"musik\"}\n",
        "print(\"Hobi:\", hobi, \"->\", type(hobi))"
      ],
      "metadata": {
        "colab": {
          "base_uri": "https://localhost:8080/"
        },
        "id": "-AiaALUh74Wl",
        "outputId": "9292b85a-1539-49ca-eb91-ad1c4bf73db0"
      },
      "execution_count": 8,
      "outputs": [
        {
          "output_type": "stream",
          "name": "stdout",
          "text": [
            "Umur: 20 -> <class 'int'>\n",
            "Tinggi: 170.5 -> <class 'float'>\n",
            "Nama: Andi -> <class 'str'>\n",
            "Status Mahasiswa: True -> <class 'bool'>\n",
            "Nilai: [80, 85, 90] -> <class 'list'>\n",
            "koordinat: (10, 20) -> <class 'tuple'>\n",
            "Data Mahasiswa: {'nama': 'Andi', 'umur': 20, 'prodi': 'TRK'} -> <class 'dict'>\n",
            "Hobi: {'olahraga', 'membaca', 'musik'} -> <class 'set'>\n"
          ]
        }
      ]
    },
    {
      "cell_type": "code",
      "source": [],
      "metadata": {
        "id": "FKmRVIfMXPPO"
      },
      "execution_count": null,
      "outputs": []
    },
    {
      "cell_type": "markdown",
      "source": [
        "### Praktikum 02 - Input dan Output Dasar"
      ],
      "metadata": {
        "id": "F_bMiDmZ73FT"
      }
    },
    {
      "cell_type": "code",
      "source": [
        "# Input string\n",
        "nama = input (\"Masukkan nama Anda: \")\n",
        "\n",
        "# Input integer\n",
        "umur = int(input(\"Masukkan umur Anda: \"))\n",
        "\n",
        "# Input float\n",
        "tinggi  = float(input(\"Masukkan tinggi badan (cm): \"))\n",
        "\n",
        "# Output standar\n",
        "print(\"Halo,\", nama,\"umur Anda:\", umur, \"tahun, tinggi:\", tinggi, \"cm\")\n",
        "\n",
        "# Output dengan Format ()\n",
        "print(\"Halo {0}, umur Anda {1} tahun, tinggi {2} cm\" .format(nama, umur, tinggi))\n",
        "\n",
        "# Output dengan f-string\n",
        "print(f\"Halo {nama}, umur Anda {umur} tahun, tinggi {tinggi} cm\")"
      ],
      "metadata": {
        "colab": {
          "base_uri": "https://localhost:8080/"
        },
        "id": "YR4hkKGt_EMq",
        "outputId": "96135840-76ea-4db0-dbd6-b90287df92bc"
      },
      "execution_count": 16,
      "outputs": [
        {
          "output_type": "stream",
          "name": "stdout",
          "text": [
            "Masukkan nama Anda: Victor\n",
            "Masukkan umur Anda: 19\n",
            "Masukkan tinggi badan (cm): 181\n",
            "Halo, Victor umur Anda: 19 tahun, tinggi: 181.0 cm\n",
            "Halo Victor, umur Anda 19 tahun, tinggi 181.0 cm\n",
            "Halo Victor, umur Anda 19 tahun, tinggi 181.0 cm\n"
          ]
        }
      ]
    },
    {
      "cell_type": "markdown",
      "source": [
        "### Praktikum 03 - Operator Aritmatika"
      ],
      "metadata": {
        "id": "ql717RhnCWMo"
      }
    },
    {
      "cell_type": "code",
      "source": [
        "a = 15\n",
        "b = 4\n",
        "\n",
        "print(\"a + b =\", a + b)\n",
        "print(\"a - b =\", a - b)\n",
        "print(\"a * b =\", a * b)\n",
        "print(\"a / b =\", a / b)\n",
        "print( \"a // b =\", a // b)\n",
        "print(\"a % b =\", a % b)\n",
        "print(\"a ** b =\", a ** b)\n",
        "print(\"Hasil program menunjukkan bahwa Phyton mampu melakukan perhitungan dasar dengan operator yang sederhana dan intuitif\")"
      ],
      "metadata": {
        "colab": {
          "base_uri": "https://localhost:8080/"
        },
        "id": "5oO4-7CUCfP7",
        "outputId": "e24fe794-d422-4eb9-d55c-2fcf0d2f6cbb"
      },
      "execution_count": 20,
      "outputs": [
        {
          "output_type": "stream",
          "name": "stdout",
          "text": [
            "a + b = 19\n",
            "a - b = 11\n",
            "a * b = 60\n",
            "a / b = 3.75\n",
            "a // b = 3\n",
            "a % b = 4\n",
            "a ** b = 50625\n",
            "Hasil program menunjukkan bahwa Phyton mampu melakukan perhitungan dasar dengan operator yang sederhana dan intuitif\n"
          ]
        }
      ]
    },
    {
      "cell_type": "markdown",
      "source": [
        "### Praktikum 04 - Operator Relasional"
      ],
      "metadata": {
        "id": "HJmq96UXFjgU"
      }
    },
    {
      "cell_type": "code",
      "source": [
        "x = 10\n",
        "y = 20\n",
        "\n",
        "print (\"x == y :\", x == y)\n",
        "print (\"x != y :\", x != y)\n",
        "print (\"x < y :\", x < y)\n",
        "print (\"x <= y :\", x <= y)\n",
        "print (\"x >= y :\", x >= y)\n",
        "print(\"Dalam kehidupan nyata, operator relasional bisa dipakai untuk mengecek apakah nilai ujian > 60, atau apakah kehadiran mahasiswa memenuhi batas minimal\")"
      ],
      "metadata": {
        "colab": {
          "base_uri": "https://localhost:8080/"
        },
        "id": "8_nGJ_9UFrks",
        "outputId": "2364fc67-bdf8-4d3a-b4a2-f0826418316d"
      },
      "execution_count": 24,
      "outputs": [
        {
          "output_type": "stream",
          "name": "stdout",
          "text": [
            "x == y : False\n",
            "x != y : True\n",
            "x < y : True\n",
            "x <= y : True\n",
            "x >= y : False\n",
            "Dalam kehidupan nyata, operator relasional bisa dipakai untuk mengecek apakah nilai ujian > 60, atau apakah kehadiran mahasiswa memenuhi batas minimal\n"
          ]
        }
      ]
    },
    {
      "cell_type": "markdown",
      "source": [
        "### Praktikum 05 - Operator Logika dengan Studi Kasus Nyata"
      ],
      "metadata": {
        "id": "Vi7IYFI1OQS_"
      }
    },
    {
      "cell_type": "code",
      "source": [
        "# Operator logika dasar\n",
        "a = True\n",
        "b = False\n",
        "\n",
        "print(\"a and b  =\", a and b)\n",
        "print(\"a or b   =\", a or b)\n",
        "print(\"not a    =\", not a)\n",
        "\n",
        "# Studi kasus nyata: kelulusan\n",
        "nilai = int (input(\"Masukkan nilai ujian: \"))\n",
        "hadir = int(input(\"Masukkan jumlah kehadiran: \"))\n",
        "\n",
        "lulus_nilai = nilai >= 60\n",
        "lulus_hadir = hadir >= 12 #dari 16 pertemuan\n",
        "\n",
        "if lulus_nilai and lulus_hadir:\n",
        "    print(\"Status: LULUS\")\n",
        "else:\n",
        "    print(\"Status: TIDAK LULUS\")"
      ],
      "metadata": {
        "colab": {
          "base_uri": "https://localhost:8080/"
        },
        "id": "MB4_aJCsOZCz",
        "outputId": "43f3bc92-f74a-4ea1-e418-8a824eca7a1f"
      },
      "execution_count": 31,
      "outputs": [
        {
          "output_type": "stream",
          "name": "stdout",
          "text": [
            "a and b  = False\n",
            "a or b   = True\n",
            "not a    = False\n",
            "Masukkan nilai ujian: 90\n",
            "Masukkan jumlah kehadiran: 15\n",
            "Status: LULUS\n"
          ]
        }
      ]
    },
    {
      "cell_type": "markdown",
      "source": [
        "### Praktikum 06 - Program Kasir Sederhana"
      ],
      "metadata": {
        "id": "qZ_XxgF6QQp3"
      }
    },
    {
      "cell_type": "code",
      "source": [
        "barang  = input(\"Masukkan nama barang: \")\n",
        "harga   = float(input(\"Masukkan harga barang: \"))\n",
        "jumlah  = int(input(\"Masukkan jumlah barang: \"))\n",
        "\n",
        "total   = harga * jumlah\n",
        "\n",
        "# Aturan diskon\n",
        "if    total >= 500000:\n",
        "      diskon = 0.2\n",
        "elif  total >= 250000:\n",
        "      diskon = 0.1\n",
        "else:\n",
        "      diskon = 0\n",
        "\n",
        "potongan  = total * diskon\n",
        "bayar     = total - potongan\n",
        "\n",
        "print(\"\\n===== Struk Belanja =====\")\n",
        "print(f\"Barang : {barang}\")\n",
        "print(f\"Jumlah : {jumlah}\")\n",
        "print(f\"Total  : Rp {total}\")\n",
        "print(f\"Diskon : {diskon * 100}%\")\n",
        "print(f\"Bayar  : Rp {bayar}\")"
      ],
      "metadata": {
        "colab": {
          "base_uri": "https://localhost:8080/"
        },
        "id": "_PfrVBV6QWoD",
        "outputId": "a7b34087-2f8d-409f-dc3b-4b22c0469069"
      },
      "execution_count": 35,
      "outputs": [
        {
          "output_type": "stream",
          "name": "stdout",
          "text": [
            "Masukkan nama barang: Velg Ban Pirelli\n",
            "Masukkan harga barang: 600000\n",
            "Masukkan jumlah barang: 2\n",
            "\n",
            "===== Struk Belanja =====\n",
            "Barang : Velg Ban Pirelli\n",
            "Jumlah : 2\n",
            "Total  : Rp 1200000.0\n",
            "Diskon : 20.0%\n",
            "Bayar  : Rp 960000.0\n"
          ]
        }
      ]
    },
    {
      "cell_type": "markdown",
      "source": [
        "# **Penugasan**"
      ],
      "metadata": {
        "id": "7k8r1eZaWYeM"
      }
    },
    {
      "cell_type": "markdown",
      "source": [
        "### Identitas Mahasiswa"
      ],
      "metadata": {
        "id": "F6-9v8cpXjM1"
      }
    },
    {
      "cell_type": "code",
      "source": [
        "# 1. Mengambil Input\n",
        "nama = input(\"Masukkan nama Mahasiswa: \")\n",
        "umur = int(input(\"Masukkan Umur Mahasiswa: \"))\n",
        "tinggi = float(input(\"Masukkan Tinggi Mahasiswa (cm): \"))\n",
        "status_in = input(\"Apakah Mahasiswa aktif? (y/n): \")\n",
        "\n",
        "# 2. Konversi boolean\n",
        "status = \"Aktif\" if status_in.lower() == \"y\" else \"Tidak Aktif\"\n",
        "\n",
        "# 3. Menampilkan output\n",
        "print(\"\\n================================\")\n",
        "print(\"     IDENTITAS MAHASISWA\")\n",
        "print(\"================================\")\n",
        "print(f\"Nama Lengkap : {nama}\")\n",
        "print(f\"Umur         : {umur} tahun\")\n",
        "print(f\"Tinggi Badan : {tinggi} cm\")\n",
        "print(f\"Status       : {status}\")\n",
        "print(\"================================\")\n"
      ],
      "metadata": {
        "colab": {
          "base_uri": "https://localhost:8080/"
        },
        "id": "-WMuvfaHX7QT",
        "outputId": "01deb778-1a17-46ae-81e0-5a759b2986cb"
      },
      "execution_count": 49,
      "outputs": [
        {
          "output_type": "stream",
          "name": "stdout",
          "text": [
            "Masukkan nama Mahasiswa: Victor\n",
            "Masukkan Umur Mahasiswa: 19\n",
            "Masukkan Tinggi Mahasiswa (cm): 181\n",
            "Apakah Mahasiswa aktif? (y/n): y\n",
            "\n",
            "================================\n",
            "     IDENTITAS MAHASISWA\n",
            "================================\n",
            "Nama Lengkap : Victor\n",
            "Umur         : 19 tahun\n",
            "Tinggi Badan : 181.0 cm\n",
            "Status       : Aktif\n",
            "================================\n"
          ]
        }
      ]
    },
    {
      "cell_type": "markdown",
      "source": [
        "### Operasi Aritmatika"
      ],
      "metadata": {
        "id": "-gHiB0fcW_CD"
      }
    },
    {
      "cell_type": "code",
      "source": [
        "# 1. Mengambil Input\n",
        "a = (int(input(\"Masukkan nilai a: \")))\n",
        "b = (int(input(\"Masukkan nilai b: \")))\n",
        "\n",
        "# 2. Operasi dan output\n",
        "print(a, \"+\", b, \"=\", a + b)\n",
        "print(a, \"-\", b, \"=\", a - b)\n",
        "print(a, \"*\", b, \"=\", a * b)\n",
        "print(a, \"/\", b, \"=\", a / b)\n",
        "print(a, \"//\", b, \"=\", a // b)\n",
        "print(a, \"%\", b, \"=\", a % b)\n",
        "print(a, \"**\", b, \"=\", a ** b)"
      ],
      "metadata": {
        "colab": {
          "base_uri": "https://localhost:8080/"
        },
        "id": "ykE6uJt4gRxy",
        "outputId": "f354dcf0-a395-40be-f974-80c89720194f"
      },
      "execution_count": 68,
      "outputs": [
        {
          "output_type": "stream",
          "name": "stdout",
          "text": [
            "Masukkan nilai a: 15\n",
            "Masukkan nilai b: 4\n",
            "15 + 4 = 19\n",
            "15 - 4 = 11\n",
            "15 * 4 = 60\n",
            "15 / 4 = 3.75\n",
            "15 // 4 = 3\n",
            "15 % 4 = 3\n",
            "15 ** 4 = 50625\n"
          ]
        }
      ]
    },
    {
      "cell_type": "markdown",
      "source": [
        "### Konversi Nilai"
      ],
      "metadata": {
        "id": "7XMdE985XqPl"
      }
    },
    {
      "cell_type": "code",
      "source": [
        "  # Mengambil Input (float)\n",
        "nilai_float = float(input(\"Masukkan sebuah angka desimal (contoh: 75.836): \"))\n",
        "\n",
        "  # 1. Konversi float ke integer (menghilangkan desimal)\n",
        "nilai_integer = int(nilai_float)\n",
        "\n",
        "  # 2. Konversi float ke string (menjadi teks)\n",
        "nilai_string = str(nilai_float)\n",
        "\n",
        "  # 3. Pembulatan 2 digit di belakang koma\n",
        "nilai_bulat = round(nilai_float, 2)\n",
        "\n",
        "  # Menampilkan semua hasil dengan format yang rapi\n",
        "print(\"\\n---------- HASIL KONVERSI & PEMBULATAN ----------\")\n",
        "print(f\"Nilai Asli (float)      : {nilai_float}\")\n",
        "print(f\"Dikonversi ke Integer   : {nilai_integer}\")\n",
        "print(f\"Dikonversi ke String    : '{nilai_string}'\")\n",
        "print(f\"Dibulatkan (2 desimal)  : {nilai_bulat}\")\n",
        "print(\"-----------------------------------------------\")"
      ],
      "metadata": {
        "id": "YdM1-40ulpPN",
        "outputId": "395bef24-62a7-4800-fccf-f6171e0a40fa",
        "colab": {
          "base_uri": "https://localhost:8080/"
        }
      },
      "execution_count": 72,
      "outputs": [
        {
          "output_type": "stream",
          "name": "stdout",
          "text": [
            "Masukkan sebuah angka desimal (contoh: 75.836): 89.9923\n",
            "\n",
            "---------- HASIL KONVERSI & PEMBULATAN ----------\n",
            "Nilai Asli (float)      : 89.9923\n",
            "Dikonversi ke Integer   : 89\n",
            "Dikonversi ke String    : '89.9923'\n",
            "Dibulatkan (2 desimal)  : 89.99\n",
            "-----------------------------------------------\n"
          ]
        }
      ]
    },
    {
      "cell_type": "markdown",
      "source": [
        "### Operator Relasional"
      ],
      "metadata": {
        "id": "vE9j4gluX0W5"
      }
    },
    {
      "cell_type": "code",
      "source": [
        "a = float(input(\"Masukkan nilai a: \"))\n",
        "b = float(input(\"Masukkan nilai b: \"))\n",
        "\n",
        "# 2. Menampilkan hasil perbandingan menggunakan semua operator relasional dengan format f-string\n",
        "print(\"\\n---------- HASIL PERBANDINGAN ----------\")\n",
        "print(f\"{a} == {b} : {a == b}\")\n",
        "print(f\"{a} != {b} : {a != b}\")\n",
        "print(f\"{a} > {b}  : {a > b}\")\n",
        "print(f\"{a} < {b}  : {a < b}\")\n",
        "print(f\"{a} >= {b} : {a >= b}\")\n",
        "print(f\"{a} <= {b} : {a <= b}\")\n",
        "print(\"--------------------------------------\")"
      ],
      "metadata": {
        "colab": {
          "base_uri": "https://localhost:8080/"
        },
        "id": "rIBRb5hZWbRO",
        "outputId": "6ec379ba-e4f0-4ff9-e9d9-5e7c4499eb2c"
      },
      "execution_count": 77,
      "outputs": [
        {
          "output_type": "stream",
          "name": "stdout",
          "text": [
            "Masukkan nilai a: 10\n",
            "Masukkan nilai b: 20\n",
            "\n",
            "---------- HASIL PERBANDINGAN ----------\n",
            "10.0 == 20.0 : False\n",
            "10.0 != 20.0 : True\n",
            "10.0 > 20.0  : False\n",
            "10.0 < 20.0  : True\n",
            "10.0 >= 20.0 : False\n",
            "10.0 <= 20.0 : True\n",
            "--------------------------------------\n"
          ]
        }
      ]
    }
  ]
}