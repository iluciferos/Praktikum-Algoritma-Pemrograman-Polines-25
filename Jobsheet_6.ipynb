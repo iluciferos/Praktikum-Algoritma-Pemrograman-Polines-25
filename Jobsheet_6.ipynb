{
  "cells": [
    {
      "cell_type": "markdown",
      "metadata": {
        "id": "view-in-github",
        "colab_type": "text"
      },
      "source": [
        "<a href=\"https://colab.research.google.com/github/iluciferos/Praktikum-Algoritma-Pemrograman-Polines-25/blob/Jobsheet-6/Jobsheet_6.ipynb\" target=\"_parent\"><img src=\"https://colab.research.google.com/assets/colab-badge.svg\" alt=\"Open In Colab\"/></a>"
      ]
    },
    {
      "cell_type": "markdown",
      "metadata": {
        "id": "X7vSIED-sEjv"
      },
      "source": [
        "# **Praktikum**"
      ]
    },
    {
      "cell_type": "markdown",
      "metadata": {
        "id": "eYrvgqJzsJRO"
      },
      "source": [
        "### Praktikum 01 – Membuat dan Mengakses List 1D"
      ]
    },
    {
      "cell_type": "code",
      "execution_count": null,
      "metadata": {
        "colab": {
          "base_uri": "https://localhost:8080/"
        },
        "id": "yxgpZxIRr8Nz",
        "outputId": "018a6360-4c3d-4657-80d3-977a9f27e8c2"
      },
      "outputs": [
        {
          "name": "stdout",
          "output_type": "stream",
          "text": [
            "Andi\n",
            "Budi\n",
            "Cici\n"
          ]
        }
      ],
      "source": [
        "mahasiswa = [\"Andi\",\"Budi\",\"Cici\"]\n",
        "print(mahasiswa[0])\n",
        "print(mahasiswa[1])\n",
        "print(mahasiswa[2])"
      ]
    },
    {
      "cell_type": "markdown",
      "metadata": {
        "id": "b0wep1xLtMd-"
      },
      "source": [
        "### Praktikum 02 – Update dan Operasi Dasar List"
      ]
    },
    {
      "cell_type": "code",
      "execution_count": null,
      "metadata": {
        "colab": {
          "base_uri": "https://localhost:8080/"
        },
        "id": "gGiJRXtktQet",
        "outputId": "a2c87270-9ab8-4e61-ab2a-c6ace7ae7623"
      },
      "outputs": [
        {
          "name": "stdout",
          "output_type": "stream",
          "text": [
            "[85, 95, 100]\n"
          ]
        }
      ],
      "source": [
        "nilai = [85,90,78]\n",
        "nilai[1] = 95\n",
        "nilai.append(100)\n",
        "nilai.remove(78)\n",
        "print(nilai)"
      ]
    },
    {
      "cell_type": "markdown",
      "metadata": {
        "id": "v_lOsgh_ugxn"
      },
      "source": [
        "### Praktikum 03 – Slicing List"
      ]
    },
    {
      "cell_type": "code",
      "execution_count": null,
      "metadata": {
        "colab": {
          "base_uri": "https://localhost:8080/"
        },
        "id": "yZyvVqJgvI1C",
        "outputId": "ee4a4523-7363-449b-adee-64145e8d7336"
      },
      "outputs": [
        {
          "name": "stdout",
          "output_type": "stream",
          "text": [
            "[85, 90, 78]\n",
            "[78, 92, 88]\n",
            "[85, 90, 78]\n"
          ]
        }
      ],
      "source": [
        "nilai = [85,90,78,92,88]\n",
        "print(nilai[0:3])\n",
        "print(nilai[2:])\n",
        "print(nilai[:3])"
      ]
    },
    {
      "cell_type": "markdown",
      "metadata": {
        "id": "tPZcMP0owFpZ"
      },
      "source": [
        "### Praktikum 04 – List 2D (Matriks)"
      ]
    },
    {
      "cell_type": "code",
      "execution_count": null,
      "metadata": {
        "colab": {
          "base_uri": "https://localhost:8080/"
        },
        "id": "cniRn4x-wHOW",
        "outputId": "dd2aeec8-1565-43b2-dae9-cbfd418dc91e"
      },
      "outputs": [
        {
          "name": "stdout",
          "output_type": "stream",
          "text": [
            "1\n",
            "6\n",
            "[7, 8, 9]\n"
          ]
        }
      ],
      "source": [
        "matriks = [[1,2,3],[4,5,6],[7,8,9]]\n",
        "print(matriks[0][0])\n",
        "print(matriks[1][2])\n",
        "print(matriks[2])"
      ]
    },
    {
      "cell_type": "markdown",
      "metadata": {
        "id": "RqaXvZjAw6-2"
      },
      "source": [
        "### Praktikum 05 – Operasi pada List 2D"
      ]
    },
    {
      "cell_type": "code",
      "execution_count": null,
      "metadata": {
        "colab": {
          "base_uri": "https://localhost:8080/"
        },
        "id": "tOPHYtJ2w8YH",
        "outputId": "a9ec118b-0a63-45a8-e809-890f0b665d1c"
      },
      "outputs": [
        {
          "name": "stdout",
          "output_type": "stream",
          "text": [
            "[[8, 10, 12], [14, 16, 18]]\n"
          ]
        }
      ],
      "source": [
        "A = [[1,2,3], [4,5,6]]\n",
        "B = [[7,8,9], [10,11,12]]\n",
        "C = []\n",
        "for i in range(len(A)):\n",
        "    baris = []\n",
        "    for j in range(len(A[0])):\n",
        "        baris.append(A[i][j]+ B[i][j])\n",
        "    C.append(baris)\n",
        "print(C)"
      ]
    },
    {
      "cell_type": "markdown",
      "metadata": {
        "id": "2V6THP3Tz1Wk"
      },
      "source": [
        "### Praktikum 06 – Studi Kasus: Pengelolaan Nilai Mahasiswa"
      ]
    },
    {
      "cell_type": "code",
      "execution_count": null,
      "metadata": {
        "colab": {
          "base_uri": "https://localhost:8080/"
        },
        "id": "rMmaeThhz24n",
        "outputId": "42bad423-9259-416b-9653-30672ef663b9"
      },
      "outputs": [
        {
          "name": "stdout",
          "output_type": "stream",
          "text": [
            "Rata-rata mahasiswa ke-1: 85.00\n",
            "Rata-rata mahasiswa ke-2: 75.00\n",
            "Rata-rata mahasiswa ke-3: 88.00\n"
          ]
        }
      ],
      "source": [
        "nilai = [[80,90,85],\n",
        "         [70,75,80],\n",
        "         [88,92,84]\n",
        "         ]\n",
        "for i, baris in enumerate(nilai, start=1):\n",
        "    rata = sum(baris) / len(baris)\n",
        "    print(f\"Rata-rata mahasiswa ke-{i}: {rata:.2f}\")"
      ]
    },
    {
      "cell_type": "markdown",
      "metadata": {
        "id": "Y6oI3Thb3lUV"
      },
      "source": [
        "# **Penugasan**"
      ]
    },
    {
      "cell_type": "markdown",
      "metadata": {
        "id": "ZP9GRP8q-rNJ"
      },
      "source": [
        "### Akses Elemen List"
      ]
    },
    {
      "cell_type": "code",
      "execution_count": null,
      "metadata": {
        "colab": {
          "base_uri": "https://localhost:8080/"
        },
        "id": "JJbFuI-u-pGP",
        "outputId": "11718c67-b154-4683-bd83-425de94cb6e8"
      },
      "outputs": [
        {
          "name": "stdout",
          "output_type": "stream",
          "text": [
            "Andi\n",
            "Evan\n",
            "Budi\n"
          ]
        }
      ],
      "source": [
        "mahasiswa = [\"Andi\", \"Budi\", \"Cici\", \"Dodik\", \"Evan\"]\n",
        "print(mahasiswa[0])\n",
        "print(mahasiswa[4])\n",
        "print(mahasiswa[1])"
      ]
    },
    {
      "cell_type": "markdown",
      "metadata": {
        "id": "Jy_mUEvNAwyx"
      },
      "source": [
        "### Operasi Dasar List"
      ]
    },
    {
      "cell_type": "code",
      "execution_count": null,
      "metadata": {
        "colab": {
          "base_uri": "https://localhost:8080/"
        },
        "id": "zRL_BVUG-oAQ",
        "outputId": "3b00cece-888e-4d16-f47e-564454264a62"
      },
      "outputs": [
        {
          "name": "stdout",
          "output_type": "stream",
          "text": [
            "[85, 80, 90]\n"
          ]
        }
      ],
      "source": [
        "nilai = [70, 75, 80]\n",
        "nilai[1] = 85\n",
        "nilai.append(90)\n",
        "nilai.remove(70)\n",
        "print(nilai)"
      ]
    },
    {
      "cell_type": "markdown",
      "metadata": {
        "id": "gjXgVxZmFAwB"
      },
      "source": [
        "### Slicing List"
      ]
    },
    {
      "cell_type": "code",
      "execution_count": null,
      "metadata": {
        "colab": {
          "background_save": true,
          "base_uri": "https://localhost:8080/"
        },
        "id": "Kh0f64f-FCZk",
        "outputId": "a0b33560-3d74-4df0-f967-98e93338c66f"
      },
      "outputs": [
        {
          "name": "stdout",
          "output_type": "stream",
          "text": [
            "[1, 2, 3]\n",
            "[7, 8, 9, 10]\n",
            "[1, 2, 3, 4, 5, 6, 7, 8, 9, 10]\n"
          ]
        }
      ],
      "source": [
        "nilai = [1,2,3,4,5,6,7,8,9,10]\n",
        "print(nilai[0:3])\n",
        "print(nilai[6:])\n",
        "print(nilai[::2])"
      ]
    },
    {
      "cell_type": "markdown",
      "metadata": {
        "id": "36cSWpyn-mkW"
      },
      "source": [
        "### List 2D (Matriks)"
      ]
    },
    {
      "cell_type": "code",
      "execution_count": null,
      "metadata": {
        "colab": {
          "base_uri": "https://localhost:8080/"
        },
        "id": "EFi49NyM-m5H",
        "outputId": "7ed3c1d8-dc02-4eeb-ba90-34b0a302c375"
      },
      "outputs": [
        {
          "name": "stdout",
          "output_type": "stream",
          "text": [
            "2\n",
            "6\n",
            "[1, 2, 3]\n"
          ]
        }
      ],
      "source": [
        "matriks = [[1,2,3],[4,5,6]]\n",
        "print(matriks[0][1])\n",
        "print(matriks[1][2])\n",
        "print(matriks[0])"
      ]
    },
    {
      "cell_type": "markdown",
      "metadata": {
        "id": "It9SRVcLAFtZ"
      },
      "source": [
        "### Operasi Matriks 2D"
      ]
    },
    {
      "cell_type": "code",
      "execution_count": null,
      "metadata": {
        "colab": {
          "base_uri": "https://localhost:8080/"
        },
        "id": "CLZ-HhV9AG4V",
        "outputId": "1eb52011-38f0-4ba8-cefb-01b24d64b559"
      },
      "outputs": [
        {
          "name": "stdout",
          "output_type": "stream",
          "text": [
            "[[8, 10, 12], [14, 16, 18]]\n"
          ]
        }
      ],
      "source": [
        "A = [[1,2,3], [4,5,6]]\n",
        "B = [[7,8,9], [10,11,12]]\n",
        "C = []\n",
        "for i in range(len(A)):\n",
        "    baris = []\n",
        "    for j in range(len(A[0])):\n",
        "        baris.append(A[i][j]+ B[i][j])\n",
        "    C.append(baris)\n",
        "print(C)"
      ]
    },
    {
      "cell_type": "markdown",
      "metadata": {
        "id": "FDTLPJVVAqRv"
      },
      "source": [
        "### Rata-rata Nilai Mahasiswa"
      ]
    },
    {
      "cell_type": "code",
      "execution_count": null,
      "metadata": {
        "colab": {
          "base_uri": "https://localhost:8080/"
        },
        "id": "6CNhYq9XAsNK",
        "outputId": "96041bab-53e2-457c-ba06-99eef80a93f0"
      },
      "outputs": [
        {
          "name": "stdout",
          "output_type": "stream",
          "text": [
            "Rata-rata mahasiswa ke-1: 80.00\n",
            "Rata-rata mahasiswa ke-2: 65.00\n",
            "Rata-rata mahasiswa ke-3: 92.33\n"
          ]
        }
      ],
      "source": [
        "nilai = [[75,80,85],\n",
        "         [60,70,65],\n",
        "         [90,95,92]\n",
        "         ]\n",
        "for i, baris in enumerate(nilai, start=1):\n",
        "    rata = sum(baris) / len(baris)\n",
        "    print(f\"Rata-rata mahasiswa ke-{i}: {rata:.2f}\")"
      ]
    },
    {
      "cell_type": "markdown",
      "metadata": {
        "id": "Lw4B6lp6BhKV"
      },
      "source": [
        "### Studi Kasus – Data Toko"
      ]
    },
    {
      "cell_type": "code",
      "execution_count": null,
      "metadata": {
        "colab": {
          "base_uri": "https://localhost:8080/"
        },
        "id": "TWSodZzuBhiZ",
        "outputId": "c5265b85-e527-4249-c94d-a75b85b35fea"
      },
      "outputs": [
        {
          "name": "stdout",
          "output_type": "stream",
          "text": [
            "   DAFTAR STOK BARANG\n",
            "------------------------\n",
            "- Buku: 20 unit\n",
            "- Pulpen: 35 unit\n",
            "- Penghapus: 15 unit\n",
            "------------------------\n",
            "Stok Terbanyak:\n",
            "Pulpen dengan 35 unit.\n"
          ]
        }
      ],
      "source": [
        "stok = [[\"Buku\", 20],\n",
        "        [\"Pulpen\", 35],\n",
        "        [\"Penghapus\", 15]\n",
        "       ]\n",
        "\n",
        "print(\"   DAFTAR STOK BARANG\")\n",
        "print(\"------------------------\")\n",
        "\n",
        "for item in stok:\n",
        "    nama_barang = item[0]\n",
        "    jumlah_stok = item[1]\n",
        "    print(f\"- {nama_barang}: {jumlah_stok} unit\")\n",
        "\n",
        "barang_terbanyak = max(stok, key=lambda item: item[1])\n",
        "\n",
        "print(\"------------------------\")\n",
        "print(f\"Stok Terbanyak:\")\n",
        "print(f\"{barang_terbanyak[0]} dengan {barang_terbanyak[1]} unit.\")"
      ]
    }
  ],
  "metadata": {
    "colab": {
      "provenance": [],
      "authorship_tag": "ABX9TyMTUFR514Chc9h0hw7gdn7Y",
      "include_colab_link": true
    },
    "kernelspec": {
      "display_name": "Python 3",
      "name": "python3"
    },
    "language_info": {
      "name": "python"
    }
  },
  "nbformat": 4,
  "nbformat_minor": 0
}