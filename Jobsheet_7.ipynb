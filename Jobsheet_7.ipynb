{
  "nbformat": 4,
  "nbformat_minor": 0,
  "metadata": {
    "colab": {
      "provenance": [],
      "authorship_tag": "ABX9TyO7p5FFwASGNvcFqJb8odn+",
      "include_colab_link": true
    },
    "kernelspec": {
      "name": "python3",
      "display_name": "Python 3"
    },
    "language_info": {
      "name": "python"
    }
  },
  "cells": [
    {
      "cell_type": "markdown",
      "metadata": {
        "id": "view-in-github",
        "colab_type": "text"
      },
      "source": [
        "<a href=\"https://colab.research.google.com/github/iluciferos/Praktikum-Algoritma-Pemrograman-Polines-25/blob/Jobsheet-7/Jobsheet_7.ipynb\" target=\"_parent\"><img src=\"https://colab.research.google.com/assets/colab-badge.svg\" alt=\"Open In Colab\"/></a>"
      ]
    },
    {
      "cell_type": "markdown",
      "source": [
        "# **PRAKTIKUM**"
      ],
      "metadata": {
        "id": "F_baHmATsqPE"
      }
    },
    {
      "cell_type": "markdown",
      "source": [
        "### Praktikum 01 – Tuple: Data Tetap yang Tidak Bisa Diubah"
      ],
      "metadata": {
        "id": "-cujS3zoswar"
      }
    },
    {
      "cell_type": "code",
      "source": [
        "koordinat = (7.05, 110.44)\n",
        "print(\"Lintang : \", koordinat[0])\n",
        "print(\"Bujur   : \", koordinat[1])"
      ],
      "metadata": {
        "colab": {
          "base_uri": "https://localhost:8080/"
        },
        "id": "3e2KVioOtrY6",
        "outputId": "4c37e934-e282-4f23-e966-f4e6c2f73860"
      },
      "execution_count": 11,
      "outputs": [
        {
          "output_type": "stream",
          "name": "stdout",
          "text": [
            "Lintang :  7.05\n",
            "Bujur   :  110.44\n"
          ]
        }
      ]
    },
    {
      "cell_type": "markdown",
      "source": [
        "### Praktikum 02 – Dictionary Dasar: Menyimpan Data Mahasiswa"
      ],
      "metadata": {
        "id": "p4MOjjgjuGcv"
      }
    },
    {
      "cell_type": "code",
      "source": [
        "mahasiswa = {\"NIM\":\"20251001\",\n",
        "             \"Nama\":\"Andi\",\n",
        "             \"Prodi\":\"TRK\"}\n",
        "print(\"NIM    : \", mahasiswa['NIM'])\n",
        "print(\"Nama   : \", mahasiswa['Nama'])\n",
        "print(\"Prodi  : \", mahasiswa['Prodi'])"
      ],
      "metadata": {
        "colab": {
          "base_uri": "https://localhost:8080/"
        },
        "id": "jrYMuYPTuKC5",
        "outputId": "f4162430-3418-4006-91ac-45016256348c"
      },
      "execution_count": 13,
      "outputs": [
        {
          "output_type": "stream",
          "name": "stdout",
          "text": [
            "NIM    :  20251001\n",
            "Nama   :  Andi\n",
            "Prodi  :  TRK\n"
          ]
        }
      ]
    },
    {
      "cell_type": "markdown",
      "source": [
        "### Praktikum 03 – Operasi pada Dictionary"
      ],
      "metadata": {
        "id": "IN011lWnwPDB"
      }
    },
    {
      "cell_type": "code",
      "source": [
        "mahasiswa = {\"NIM\":\"20251001\",\n",
        "             \"Nama\":\"Andi\",\n",
        "             \"Prodi\":\"TRK\"\n",
        "             }\n",
        "\n",
        "mahasiswa[\"Umur\"] = 20\n",
        "mahasiswa[\"Prodi\"] = \"Teknik Komputer\"\n",
        "del mahasiswa[\"Umur\"]\n",
        "\n",
        "print(mahasiswa)"
      ],
      "metadata": {
        "colab": {
          "base_uri": "https://localhost:8080/"
        },
        "id": "2GOHi8LCwTbX",
        "outputId": "8b3bc2eb-b226-4d3a-feb3-87b8558eff76"
      },
      "execution_count": 14,
      "outputs": [
        {
          "output_type": "stream",
          "name": "stdout",
          "text": [
            "{'NIM': '20251001', 'Nama': 'Andi', 'Prodi': 'Teknik Komputer'}\n"
          ]
        }
      ]
    },
    {
      "cell_type": "markdown",
      "source": [
        "### Praktikum 04 – Set dan Operasi Himpunan"
      ],
      "metadata": {
        "id": "3xkZMMZyxQIc"
      }
    },
    {
      "cell_type": "code",
      "source": [
        "A = {1,2,3,4}\n",
        "B = {3,4,5,6}\n",
        "\n",
        "print(\"Union        : \", A|B)\n",
        "print(\"Intersection : \", A & B)\n",
        "print(\"Difference   : \", A - B)"
      ],
      "metadata": {
        "colab": {
          "base_uri": "https://localhost:8080/"
        },
        "id": "AAkcDYhwxUEx",
        "outputId": "10923f04-ac0d-4ab4-c7ed-b1d5eede32e2"
      },
      "execution_count": 16,
      "outputs": [
        {
          "output_type": "stream",
          "name": "stdout",
          "text": [
            "Union        :  {1, 2, 3, 4, 5, 6}\n",
            "Intersection :  {3, 4}\n",
            "Difference   :  {1, 2}\n"
          ]
        }
      ]
    },
    {
      "cell_type": "markdown",
      "source": [
        "### Praktikum 05 – Studi Kasus: Data Mahasiswa dan Mata Kuliah"
      ],
      "metadata": {
        "id": "iGKhNGldx4O_"
      }
    },
    {
      "cell_type": "code",
      "source": [
        "mhs1={\"Algoritma\",\"Matematika\",\"Bahasa Inggris\"}\n",
        "mhs2={\"Algoritma\",\"Basis Data\",\"Matematika\"}\n",
        "\n",
        "print(\"Mata Kuliah Mahasiswa 1: \", mhs1)\n",
        "print(\"Mata Kuliah Mahasiswa 2: \", mhs2)\n",
        "print(\"Mata kuliah yang sama  : \", mhs1 & mhs2)"
      ],
      "metadata": {
        "colab": {
          "base_uri": "https://localhost:8080/"
        },
        "id": "SFKLkxTfydDy",
        "outputId": "59b74f4a-6861-4bab-f74a-029c2823467e"
      },
      "execution_count": 21,
      "outputs": [
        {
          "output_type": "stream",
          "name": "stdout",
          "text": [
            "Mata Kuliah Mahasiswa 1:  {'Bahasa Inggris', 'Matematika', 'Algoritma'}\n",
            "Mata Kuliah Mahasiswa 2:  {'Matematika', 'Basis Data', 'Algoritma'}\n",
            "Mata kuliah yang sama  :  {'Matematika', 'Algoritma'}\n"
          ]
        }
      ]
    },
    {
      "cell_type": "markdown",
      "source": [
        "### Praktikum 06 – Studi Kasus Dictionary: Daftar Nilai Mahasiswa"
      ],
      "metadata": {
        "id": "c2xnCTegzMsd"
      }
    },
    {
      "cell_type": "code",
      "source": [
        "nilai_mahasiswa = {\n",
        "    \"Andi\":80,\n",
        "    \"Budi\":75,\n",
        "    \"Cici\":90\n",
        "    }\n",
        "for nama, nilai in nilai_mahasiswa.items():\n",
        "    print(f\"{nama}: {nilai}\")\n",
        "\n",
        "rata = sum(nilai_mahasiswa.values()) / len(nilai_mahasiswa)\n",
        "print(f\"rata-rata nilai: {rata:.2f}\")"
      ],
      "metadata": {
        "colab": {
          "base_uri": "https://localhost:8080/"
        },
        "id": "E46FWwZKzOSV",
        "outputId": "63b6090a-17e7-4432-e94f-7b4f04b6f188"
      },
      "execution_count": 24,
      "outputs": [
        {
          "output_type": "stream",
          "name": "stdout",
          "text": [
            "Andi: 80\n",
            "Budi: 75\n",
            "Cici: 90\n",
            "rata-rata nilai: 81.67\n"
          ]
        }
      ]
    },
    {
      "cell_type": "markdown",
      "source": [
        "# **PENUGASAN**"
      ],
      "metadata": {
        "id": "ZwZMLL0YsqEf"
      }
    },
    {
      "cell_type": "markdown",
      "source": [
        "### Tuple Sederhana"
      ],
      "metadata": {
        "id": "gIgiT70T4hGW"
      }
    },
    {
      "cell_type": "code",
      "source": [
        "mahasiswa = (\"Nama  : Budi\",\n",
        "             \"Umur  : 25 \",\n",
        "             \"Prodi : Teknik Komputer\"\n",
        "             )\n",
        "print(mahasiswa[0])\n",
        "print(mahasiswa[1])\n",
        "print(mahasiswa[2])"
      ],
      "metadata": {
        "colab": {
          "base_uri": "https://localhost:8080/"
        },
        "id": "lJV8oLg54lJY",
        "outputId": "cb21c317-6669-43a7-b19a-274d6c03aed7"
      },
      "execution_count": 29,
      "outputs": [
        {
          "output_type": "stream",
          "name": "stdout",
          "text": [
            "Nama  : Budi\n",
            "Umur  : 25 \n",
            "Prodi : Teknik Komputer\n"
          ]
        }
      ]
    },
    {
      "cell_type": "markdown",
      "source": [
        "### Tuple Tidak Bisa Diubah"
      ],
      "metadata": {
        "id": "hrPJyDAt4lpk"
      }
    },
    {
      "cell_type": "code",
      "execution_count": 31,
      "metadata": {
        "colab": {
          "base_uri": "https://localhost:8080/",
          "height": 176
        },
        "id": "yvlURuSmsDN2",
        "outputId": "06cd2f69-7c16-49ed-9fba-54816a93f295"
      },
      "outputs": [
        {
          "output_type": "error",
          "ename": "TypeError",
          "evalue": "'tuple' object does not support item assignment",
          "traceback": [
            "\u001b[0;31m---------------------------------------------------------------------------\u001b[0m",
            "\u001b[0;31mTypeError\u001b[0m                                 Traceback (most recent call last)",
            "\u001b[0;32m/tmp/ipython-input-1378867159.py\u001b[0m in \u001b[0;36m<cell line: 0>\u001b[0;34m()\u001b[0m\n\u001b[1;32m      1\u001b[0m \u001b[0mangka\u001b[0m \u001b[0;34m=\u001b[0m \u001b[0;34m(\u001b[0m \u001b[0;36m1\u001b[0m\u001b[0;34m,\u001b[0m\u001b[0;36m2\u001b[0m\u001b[0;34m,\u001b[0m\u001b[0;36m3\u001b[0m \u001b[0;34m)\u001b[0m\u001b[0;34m\u001b[0m\u001b[0;34m\u001b[0m\u001b[0m\n\u001b[0;32m----> 2\u001b[0;31m \u001b[0mangka\u001b[0m\u001b[0;34m[\u001b[0m\u001b[0;36m0\u001b[0m\u001b[0;34m]\u001b[0m \u001b[0;34m=\u001b[0m \u001b[0;36m10\u001b[0m\u001b[0;34m\u001b[0m\u001b[0;34m\u001b[0m\u001b[0m\n\u001b[0m\u001b[1;32m      3\u001b[0m \u001b[0mprint\u001b[0m\u001b[0;34m(\u001b[0m\u001b[0mangka\u001b[0m\u001b[0;34m)\u001b[0m\u001b[0;34m\u001b[0m\u001b[0;34m\u001b[0m\u001b[0m\n",
            "\u001b[0;31mTypeError\u001b[0m: 'tuple' object does not support item assignment"
          ]
        }
      ],
      "source": [
        "angka = ( 1,2,3 )\n",
        "angka[0] = 10\n",
        "print(angka)"
      ]
    },
    {
      "cell_type": "markdown",
      "source": [
        "### Dictionary Dasar"
      ],
      "metadata": {
        "id": "017RaMO4AXF3"
      }
    },
    {
      "cell_type": "code",
      "source": [
        "buku = {\"Judul\": \"Algoritma\",\n",
        "        \"Penulis\": \"Munir\",\n",
        "        \"Tahun\": 2021\n",
        "        }\n",
        "print(\"Judul    : \", buku['Judul'])\n",
        "print(\"Penulis  : \", buku['Penulis'])\n",
        "print(\"Tahun    : \", buku['Tahun'])"
      ],
      "metadata": {
        "colab": {
          "base_uri": "https://localhost:8080/"
        },
        "id": "Qq2EakQXCBTa",
        "outputId": "6f2915e5-c356-4257-f299-d1d20c0a2d11"
      },
      "execution_count": 32,
      "outputs": [
        {
          "output_type": "stream",
          "name": "stdout",
          "text": [
            "Judul    :  Algoritma\n",
            "Penulis  :  Munir\n",
            "Tahun    :  2021\n"
          ]
        }
      ]
    },
    {
      "cell_type": "markdown",
      "source": [
        "### Operasi Dictionary\n"
      ],
      "metadata": {
        "id": "F4Q5yLykDUfl"
      }
    },
    {
      "cell_type": "code",
      "source": [
        "dosen = {\"NIP\": \"12345\", \"Nama\": \"Budi\", \"Prodi\": \"TRK\"}\n",
        "\n",
        "dosen[\"Umur\"] = 40\n",
        "dosen[\"Prodi\"] = \"Teknik Komputer\"\n",
        "del dosen[\"Umur\"]\n",
        "\n",
        "print(dosen)"
      ],
      "metadata": {
        "colab": {
          "base_uri": "https://localhost:8080/"
        },
        "id": "361deCW5DWdv",
        "outputId": "a30a3c72-f0be-41cc-9e6a-5cf38c3fe5e9"
      },
      "execution_count": 33,
      "outputs": [
        {
          "output_type": "stream",
          "name": "stdout",
          "text": [
            "{'NIP': '12345', 'Nama': 'Budi', 'Prodi': 'Teknik Komputer'}\n"
          ]
        }
      ]
    },
    {
      "cell_type": "markdown",
      "source": [
        "### Set dan Himpunan"
      ],
      "metadata": {
        "id": "u_ddxinpGj5q"
      }
    },
    {
      "cell_type": "code",
      "source": [
        "A = {\"Matematika\", \"Algoritma\", \"Bahasa Inggris\"}\n",
        "B = {\"Algoritma\", \"Basis Data\", \"Matematika\"}\n",
        "\n",
        "\n",
        "print(\"Union        : \", A | B)\n",
        "print(\"Intersection : \", A & B)\n",
        "print(\"Difference   : \", A - B)"
      ],
      "metadata": {
        "colab": {
          "base_uri": "https://localhost:8080/"
        },
        "id": "is4ZSR-tGnGi",
        "outputId": "04aa0069-ae9e-41a0-f855-fc4d8aeb8256"
      },
      "execution_count": 34,
      "outputs": [
        {
          "output_type": "stream",
          "name": "stdout",
          "text": [
            "Union        :  {'Bahasa Inggris', 'Matematika', 'Basis Data', 'Algoritma'}\n",
            "Intersection :  {'Matematika', 'Algoritma'}\n",
            "Difference   :  {'Bahasa Inggris'}\n"
          ]
        }
      ]
    },
    {
      "cell_type": "markdown",
      "source": [
        "### Studi Kasus Dictionary"
      ],
      "metadata": {
        "id": "8AegGowbLjOl"
      }
    },
    {
      "cell_type": "code",
      "source": [
        "nilai_mahasiswa = {\n",
        "    \"Andi\":85,\n",
        "    \"Budi\":90,\n",
        "    \"Cici\":78\n",
        "    }\n",
        "for nama, nilai in nilai_mahasiswa.items():\n",
        "    print(f\"{nama}: {nilai}\")\n",
        "\n",
        "rata = sum(nilai_mahasiswa.values()) / len(nilai_mahasiswa)\n",
        "print(f\"rata-rata nilai: {rata:.2f}\")"
      ],
      "metadata": {
        "colab": {
          "base_uri": "https://localhost:8080/"
        },
        "id": "dRs4U7azLpAC",
        "outputId": "30099409-900f-49e5-dd91-223b4971e648"
      },
      "execution_count": 41,
      "outputs": [
        {
          "output_type": "stream",
          "name": "stdout",
          "text": [
            "Andi: 85\n",
            "Budi: 90\n",
            "Cici: 78\n",
            "rata-rata nilai: 84.33\n"
          ]
        }
      ]
    },
    {
      "cell_type": "markdown",
      "source": [
        "### Studi Kasus Set – Klub Mahasiswa"
      ],
      "metadata": {
        "id": "7Id82k2tLoKc"
      }
    },
    {
      "cell_type": "code",
      "source": [
        "KlubA = {\"Andi\", \"Budi\", \"Cici\"}\n",
        "KlubB = {\"Cici\", \"Deni\", \"Eka\"}\n",
        "\n",
        "print(\"Daftar nama seluruh anggota Klub A dan B     : \", KlubA | KlubB)\n",
        "print(\"Daftar anggota yang ada di kedua klub        : \", KlubA & KlubB)\n",
        "print(\"Anggota yang ada di Klub A tapi B tidak ada  : \", KlubA - KlubB)"
      ],
      "metadata": {
        "colab": {
          "base_uri": "https://localhost:8080/"
        },
        "id": "ScBkAbDBLqi2",
        "outputId": "d9759d07-7fac-4a2b-da40-e0182526410f"
      },
      "execution_count": 40,
      "outputs": [
        {
          "output_type": "stream",
          "name": "stdout",
          "text": [
            "Daftar nama seluruh anggota Klub A dan B     :  {'Budi', 'Cici', 'Deni', 'Andi', 'Eka'}\n",
            "Daftar anggota yang ada di kedua klub        :  {'Cici'}\n",
            "Anggota yang ada di Klub A tapi B tidak ada  :  {'Budi', 'Andi'}\n"
          ]
        }
      ]
    }
  ]
}