{
  "cells": [
    {
      "cell_type": "markdown",
      "metadata": {
        "id": "view-in-github",
        "colab_type": "text"
      },
      "source": [
        "<a href=\"https://colab.research.google.com/github/iluciferos/Praktikum-Algoritma-Pemrograman-Polines-25/blob/Jobsheet-3/jobsheet_3.ipynb\" target=\"_parent\"><img src=\"https://colab.research.google.com/assets/colab-badge.svg\" alt=\"Open In Colab\"/></a>"
      ]
    },
    {
      "cell_type": "markdown",
      "metadata": {
        "id": "sZqZmg8Sidvu"
      },
      "source": [
        "Praktikum 01 - If Sederhana"
      ]
    },
    {
      "cell_type": "code",
      "execution_count": null,
      "metadata": {
        "colab": {
          "base_uri": "https://localhost:8080/"
        },
        "id": "5T9XQMQ2eWwY",
        "outputId": "07cc2a60-57fc-4670-ef22-47d54848aa8b"
      },
      "outputs": [
        {
          "name": "stdout",
          "output_type": "stream",
          "text": [
            "Masukkan nilai: 70\n",
            "Anda dinyatakan Lulus\n"
          ]
        }
      ],
      "source": [
        "\n",
        "nilai = int(input(\"Masukkan nilai: \"))\n",
        "\n",
        "KKM = nilai >=60\n",
        "if KKM:\n",
        "  print(\"Anda dinyatakan Lulus\")\n"
      ]
    },
    {
      "cell_type": "markdown",
      "metadata": {
        "id": "oLMfgJiOQNhu"
      },
      "source": [
        "Praktikum 02 - If Else"
      ]
    },
    {
      "cell_type": "code",
      "execution_count": null,
      "metadata": {
        "colab": {
          "base_uri": "https://localhost:8080/"
        },
        "id": "DWBS6PyyO85w",
        "outputId": "0c5efd20-c55b-4465-ac5e-aec76bf70be8"
      },
      "outputs": [
        {
          "name": "stdout",
          "output_type": "stream",
          "text": [
            "Masukkan nilai: 50\n",
            "Anda dinyatakan TIDAK LULUS\n"
          ]
        }
      ],
      "source": [
        "n = int(input(\"Masukkan nilai: \"))\n",
        "\n",
        "minimum_nilai = n >= 60\n",
        "if minimum_nilai:\n",
        "  print(\"Anda dinyatakan LULUS\")\n",
        "else:\n",
        "  print(\"Anda dinyatakan TIDAK LULUS\")"
      ]
    },
    {
      "cell_type": "markdown",
      "metadata": {
        "id": "Jbwr6vCbQU8K"
      },
      "source": [
        "Praktikum 03 - If Elif Else"
      ]
    },
    {
      "cell_type": "code",
      "execution_count": null,
      "metadata": {
        "colab": {
          "base_uri": "https://localhost:8080/"
        },
        "id": "WZvxxW0AQoLx",
        "outputId": "218f3a8d-9b9f-4ecf-f2c8-047509235266"
      },
      "outputs": [
        {
          "name": "stdout",
          "output_type": "stream",
          "text": [
            "Masukkan Nilai: 78\n",
            "Nilai anda 78, grade anda B\n"
          ]
        }
      ],
      "source": [
        "nilai = int(input(\"Masukkan Nilai: \"))\n",
        "\n",
        "if nilai >= 85:\n",
        "  grade = \"A\"\n",
        "elif nilai >= 70:\n",
        "  grade = \"B\"\n",
        "elif nilai >= 55:\n",
        "  grade = \"C\"\n",
        "elif nilai >= 40:\n",
        "  grade = \"D\"\n",
        "else:\n",
        "  grade = \"E\"\n",
        "\n",
        "print(f\"Nilai anda {nilai}, grade anda {grade}\")\n"
      ]
    },
    {
      "cell_type": "markdown",
      "metadata": {
        "id": "6Z3rtV9pcde6"
      },
      "source": [
        "Praktikum 04 - Nested if"
      ]
    },
    {
      "cell_type": "code",
      "execution_count": null,
      "metadata": {
        "colab": {
          "base_uri": "https://localhost:8080/"
        },
        "id": "KNCBzSt7U7aJ",
        "outputId": "fc4e5bff-2a76-40d4-83cb-6fe7dca904f6"
      },
      "outputs": [
        {
          "output_type": "stream",
          "name": "stdout",
          "text": [
            "Masukkan jumlah IPK: 3.2\n",
            "Masukkan jumlah SKS: 16\n",
            "IPK memenuhi, SKS kurang\n"
          ]
        }
      ],
      "source": [
        "ipk = float(input(\"Masukkan jumlah IPK: \"))\n",
        "sks = int(input(\"Masukkan jumlah SKS: \"))\n",
        "\n",
        "if ipk >= 3.00:\n",
        "    if sks >= 18:\n",
        "        print(\"Anda layak Beasiswa\")\n",
        "    if ipk >= 3.00 and sks <=18:\n",
        "          print(\"IPK memenuhi, SKS kurang\")\n",
        "    if ipk <= 3.00 and sks >=18:\n",
        "          print(\"IPK Kurang, SKS memenuhi\")\n",
        "else:\n",
        "    print(\"Anda tidak layak mendapat beasiswa\")\n",
        "\n"
      ]
    },
    {
      "cell_type": "markdown",
      "metadata": {
        "id": "r1YlNGMsZsfV"
      },
      "source": [
        "Praktikum 05 - Match Case"
      ]
    },
    {
      "cell_type": "code",
      "execution_count": null,
      "metadata": {
        "colab": {
          "base_uri": "https://localhost:8080/"
        },
        "id": "aBVSinWHZ0eo",
        "outputId": "deda5a95-91bd-4f3d-db43-6ba6c5794d4c"
      },
      "outputs": [
        {
          "output_type": "stream",
          "name": "stdout",
          "text": [
            "Pilih menu (1-3): 2\n",
            "Anda memilih Mie Ayam\n"
          ]
        }
      ],
      "source": [
        "menu = int(input(\"Pilih menu (1-3): \"))\n",
        "\n",
        "match menu:\n",
        "    case 1:\n",
        "      print(\"Anda memilih Nasi Goreng\")\n",
        "    case 2:\n",
        "      print(\"Anda memilih Mie Ayam\")\n",
        "    case 3:\n",
        "      print(\"Anda memilih Soto Ayam\")\n",
        "    case _:\n",
        "      print(\"Menu tidak tersedia\")"
      ]
    },
    {
      "cell_type": "markdown",
      "metadata": {
        "id": "O3-DgWxZcAZ_"
      },
      "source": [
        "Praktikum 06 - Studi Kasus : Program Kasir"
      ]
    },
    {
      "cell_type": "code",
      "execution_count": null,
      "metadata": {
        "colab": {
          "base_uri": "https://localhost:8080/"
        },
        "id": "h1muoFIxb_3H",
        "outputId": "94442ea5-3780-4c9a-bef3-d26881ab91c4"
      },
      "outputs": [
        {
          "output_type": "stream",
          "name": "stdout",
          "text": [
            "Masukkan nama barang: Puplen\n",
            "Masukkan harga: 5000\n",
            "Jumlah barang: 10\n",
            "\n",
            "====== Struk Belanja ======\n",
            "Barang      : Puplen\n",
            "Jumlah      : 10\n",
            "Total       : Rp.50000.0\n",
            "Diskon      : 0 %\n",
            "Total Bayar : Rp.50000.0\n"
          ]
        }
      ],
      "source": [
        "barang = str(input(\"Masukkan nama barang: \"))\n",
        "harga = float(input(\"Masukkan harga: \"))\n",
        "jumlah = int(input(\"Jumlah barang: \"))\n",
        "\n",
        "total = harga * jumlah\n",
        "\n",
        "if total >= 500000:\n",
        "    diskon = 0.2\n",
        "elif total >= 250000:\n",
        "    diskon = 0.1\n",
        "else:\n",
        "    diskon = 0\n",
        "\n",
        "bayar = total - (total * diskon)\n",
        "\n",
        "print(\"\\n====== Struk Belanja ======\")\n",
        "print(f\"Barang      : {barang}\")\n",
        "print(f\"Jumlah      : {jumlah}\")\n",
        "print(f\"Total       : Rp.{total}\")\n",
        "print(f\"Diskon      : {diskon*100} %\")\n",
        "print(f\"Total Bayar : Rp.{bayar}\")\n"
      ]
    },
    {
      "cell_type": "markdown",
      "metadata": {
        "id": "K4mQTUtfY7i4"
      },
      "source": [
        "# **PENUGASAN**"
      ]
    },
    {
      "cell_type": "markdown",
      "metadata": {
        "id": "UgJDtDBReiks"
      },
      "source": [
        "### **Cek Bilangan Positif/Negatif/Nol**"
      ]
    },
    {
      "cell_type": "code",
      "execution_count": null,
      "metadata": {
        "colab": {
          "base_uri": "https://localhost:8080/"
        },
        "id": "b6yl2nxYk5zD",
        "outputId": "593335da-4b41-4f8a-f92e-2785d823deed"
      },
      "outputs": [
        {
          "name": "stdout",
          "output_type": "stream",
          "text": [
            "Masukkan angka: 0\n",
            "0 adalah bilangan Nol\n"
          ]
        }
      ],
      "source": [
        "\n",
        "a = int(input(\"Masukkan angka: \"))\n",
        "\n",
        "if a > 0:\n",
        "  print(f\"{a} adalah bilangan Positif\")\n",
        "elif a < 0:\n",
        "  print(f\"{a} adalah bilangan Negatif\")\n",
        "else:\n",
        "  print(f\"{a} adalah bilangan Nol\")"
      ]
    },
    {
      "cell_type": "markdown",
      "metadata": {
        "id": "wGM1Yc1mgDtz"
      },
      "source": [
        "### **Menentukan kategori usia**"
      ]
    },
    {
      "cell_type": "code",
      "execution_count": null,
      "metadata": {
        "colab": {
          "base_uri": "https://localhost:8080/"
        },
        "id": "slWbarCyCSKY",
        "outputId": "cf20c617-2c00-4dbc-aa30-883e81b1b9f2"
      },
      "outputs": [
        {
          "name": "stdout",
          "output_type": "stream",
          "text": [
            "Masukkan umur anda: 59\n",
            "Anda masuk di kategori Dewasa\n"
          ]
        }
      ],
      "source": [
        "umur = int(input(\"Masukkan umur anda: \"))\n",
        "\n",
        "if umur <= 5:\n",
        "  print(\"Anda masuk di kategori Balita\")\n",
        "elif umur <= 11:\n",
        "  print(\"Anda masuk di kategori Anak - anak\")\n",
        "elif umur <= 17:\n",
        "  print(\"Anda masuk di kategori Remaja\")\n",
        "elif umur <= 59:\n",
        "  print(\"Anda masuk di kategori Dewasa\")\n",
        "else:\n",
        "  print(\"Anda masuk di kategori Lansia\")"
      ]
    },
    {
      "cell_type": "markdown",
      "metadata": {
        "id": "LN8CD84OkS4L"
      },
      "source": [
        "## **Hitung Tarif Parkir**"
      ]
    },
    {
      "cell_type": "code",
      "execution_count": null,
      "metadata": {
        "colab": {
          "base_uri": "https://localhost:8080/"
        },
        "id": "ojzgRiRZkTLV",
        "outputId": "de89b57e-dd79-4c6e-b40b-d2c77098a199"
      },
      "outputs": [
        {
          "name": "stdout",
          "output_type": "stream",
          "text": [
            "Masukkan berapa jam parkir: 20\n",
            "Tarif parkir: Rp.20000\n"
          ]
        }
      ],
      "source": [
        "waktu = int(input(\"Masukkan berapa jam parkir: \"))\n",
        "waktu_awal = 2\n",
        "tarif = waktu / 2\n",
        "tarif_lanjutan = (waktu - 2) * 2000 + 5000\n",
        "maks_tarif = 20000\n",
        "\n",
        "if waktu <= 0:\n",
        "  print(\"Masukkan angka valid lebih dari 0\")\n",
        "elif waktu == waktu_awal:\n",
        "  print(f\"Tarif parkir: Rp.5000\")\n",
        "else:\n",
        "  tarif_lanjutan\n",
        "  if tarif_lanjutan > maks_tarif:\n",
        "      tarif_lanjutan = maks_tarif\n",
        "  print(f\"Tarif parkir: Rp.{tarif_lanjutan}\")"
      ]
    },
    {
      "cell_type": "markdown",
      "metadata": {
        "id": "qLHu_4370N6a"
      },
      "source": [
        "### **Cek Login Sederhana**"
      ]
    },
    {
      "cell_type": "code",
      "execution_count": null,
      "metadata": {
        "colab": {
          "background_save": true
        },
        "id": "N89ID7M_mQU1",
        "outputId": "4dffda87-d6f5-4781-b83c-1015c106e525"
      },
      "outputs": [
        {
          "name": "stdout",
          "output_type": "stream",
          "text": [
            "Login Berhasil\n"
          ]
        }
      ],
      "source": [
        "usn = str(input(\"Input Username: \"))\n",
        "pw = str(input(\"Masukkan Password: \"))\n",
        "\n",
        "db_usn = usn\n",
        "db_pw = pw\n",
        "if db_usn and db_pw:\n",
        "  print(\"Login Berhasil\")\n",
        "else:\n",
        "  print(\"Login Gagal\")\n"
      ]
    },
    {
      "cell_type": "markdown",
      "source": [
        "### **Menu Restoran dengan Match-Case**"
      ],
      "metadata": {
        "id": "0KUGg7hAFdfE"
      }
    },
    {
      "cell_type": "code",
      "source": [
        "menu = int(input(\"Pilih menu (1-3): \"))\n",
        "\n",
        "match menu:\n",
        "    case 1:\n",
        "      print(\"Anda memilih Nasi Goreng\")\n",
        "    case 2:\n",
        "      print(\"Anda memilih Mie Ayam\")\n",
        "    case 3:\n",
        "      print(\"Anda memilih Soto Ayam\")\n",
        "    case _:\n",
        "      print(\"Menu tidak tersedia\")"
      ],
      "metadata": {
        "colab": {
          "base_uri": "https://localhost:8080/"
        },
        "id": "XGZq3WnMFhkj",
        "outputId": "e898fcb2-bafe-4e23-f1e9-4c2202e4c18e"
      },
      "execution_count": null,
      "outputs": [
        {
          "output_type": "stream",
          "name": "stdout",
          "text": [
            "Pilih menu (1-3): 2\n",
            "Anda memilih Mie Ayam\n"
          ]
        }
      ]
    },
    {
      "cell_type": "markdown",
      "source": [
        "Studi Kasus Nyata - Program Penentuan diskon"
      ],
      "metadata": {
        "id": "6l6ZUNDTFpyD"
      }
    },
    {
      "cell_type": "code",
      "source": [
        "barang = str(input(\"Masukkan nama barang: \"))\n",
        "harga = float(input(\"Masukkan harga: \"))\n",
        "jumlah = int(input(\"Jumlah barang: \"))\n",
        "\n",
        "total = harga * jumlah\n",
        "\n",
        "if total >= 500000:\n",
        "    diskon = 0.2\n",
        "elif total >= 250000:\n",
        "    diskon = 0.1\n",
        "else:\n",
        "    diskon = 0\n",
        "\n",
        "bayar = total - (total * diskon)\n",
        "\n",
        "print(\"\\n====== Struk Belanja ======\")\n",
        "print(f\"Barang      : {barang}\")\n",
        "print(f\"Jumlah      : {jumlah}\")\n",
        "print(f\"Total       : Rp.{total}\")\n",
        "print(f\"Diskon      : {diskon*100} %\")\n",
        "print(f\"Total Bayar : Rp.{bayar}\")\n"
      ],
      "metadata": {
        "colab": {
          "base_uri": "https://localhost:8080/"
        },
        "id": "GLIIqL73F0pQ",
        "outputId": "c5a1507b-329a-4c54-dd84-ee744316adb9"
      },
      "execution_count": null,
      "outputs": [
        {
          "output_type": "stream",
          "name": "stdout",
          "text": [
            "Masukkan nama barang: Sepatu Adidas Evo SL\n",
            "Masukkan harga: 600000\n",
            "Jumlah barang: 2\n",
            "\n",
            "====== Struk Belanja ======\n",
            "Barang      : Sepatu Adidas Evo SL\n",
            "Jumlah      : 2\n",
            "Total       : Rp.1200000.0\n",
            "Diskon      : 20.0 %\n",
            "Total Bayar : Rp.960000.0\n"
          ]
        }
      ]
    }
  ],
  "metadata": {
    "colab": {
      "provenance": [],
      "include_colab_link": true
    },
    "kernelspec": {
      "display_name": "Python 3",
      "name": "python3"
    },
    "language_info": {
      "name": "python"
    }
  },
  "nbformat": 4,
  "nbformat_minor": 0
}