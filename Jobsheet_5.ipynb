{
  "nbformat": 4,
  "nbformat_minor": 0,
  "metadata": {
    "colab": {
      "provenance": [],
      "authorship_tag": "ABX9TyNSdAVmt2wylygI+M6+eG48",
      "include_colab_link": true
    },
    "kernelspec": {
      "name": "python3",
      "display_name": "Python 3"
    },
    "language_info": {
      "name": "python"
    }
  },
  "cells": [
    {
      "cell_type": "markdown",
      "metadata": {
        "id": "view-in-github",
        "colab_type": "text"
      },
      "source": [
        "<a href=\"https://colab.research.google.com/github/iluciferos/Praktikum-Algoritma-Pemrograman-Polines-25/blob/Jobsheet-5/Jobsheet_5.ipynb\" target=\"_parent\"><img src=\"https://colab.research.google.com/assets/colab-badge.svg\" alt=\"Open In Colab\"/></a>"
      ]
    },
    {
      "cell_type": "markdown",
      "source": [
        "# **Praktikum**"
      ],
      "metadata": {
        "id": "del4cATyAo2Y"
      }
    },
    {
      "cell_type": "markdown",
      "source": [
        "### Praktikum 01 – Indexing dan Slicing"
      ],
      "metadata": {
        "id": "E9XeRAWeAsaw"
      }
    },
    {
      "cell_type": "code",
      "source": [
        "teks = \"Politeknik Negeri Semarang\"\n",
        "print(teks[0])\n",
        "print(teks[0:11])\n",
        "print(teks[-8:])"
      ],
      "metadata": {
        "colab": {
          "base_uri": "https://localhost:8080/"
        },
        "id": "jYHTOoDVA20W",
        "outputId": "85cb94b3-cc50-4eb0-bbe0-73433aec3114"
      },
      "execution_count": 1,
      "outputs": [
        {
          "output_type": "stream",
          "name": "stdout",
          "text": [
            "P\n",
            "Politeknik \n",
            "Semarang\n"
          ]
        }
      ]
    },
    {
      "cell_type": "markdown",
      "source": [
        "### Praktikum 02 – Method Bawaan String"
      ],
      "metadata": {
        "id": "fGMPuN3vAzaq"
      }
    },
    {
      "cell_type": "code",
      "source": [
        "teks = \" Politeknik Negeri Semarang \"\n",
        "print (teks.upper())\n",
        "print(teks.lower())\n",
        "print(teks.title())\n",
        "print(teks.strip())\n",
        "print(teks.split(\" \"))\n",
        "print(\"-\".join([\"Politeknik\",\"Negeri\",\"Semarang\"]))"
      ],
      "metadata": {
        "colab": {
          "base_uri": "https://localhost:8080/"
        },
        "id": "UtoHJE2KBUpF",
        "outputId": "4b5c7956-f4a3-41f9-e1f4-0cebc2c1714b"
      },
      "execution_count": 6,
      "outputs": [
        {
          "output_type": "stream",
          "name": "stdout",
          "text": [
            " POLITEKNIK NEGERI SEMARANG \n",
            " politeknik negeri semarang \n",
            " Politeknik Negeri Semarang \n",
            "Politeknik Negeri Semarang\n",
            "['', 'Politeknik', 'Negeri', 'Semarang', '']\n",
            "Politeknik-Negeri-Semarang\n"
          ]
        }
      ]
    },
    {
      "cell_type": "markdown",
      "source": [
        "### Praktikum 03 – Validasi Password"
      ],
      "metadata": {
        "id": "VMtEqcUPAzR-"
      }
    },
    {
      "cell_type": "code",
      "source": [
        "password = (str(input(\"Masukkan Password: \")))\n",
        "if len(password) >= 8:\n",
        "  print (\"Password Valid\")\n",
        "else:\n",
        "  print(\"Password terlalu pendek\")"
      ],
      "metadata": {
        "colab": {
          "base_uri": "https://localhost:8080/"
        },
        "id": "-l_w1y0LC48r",
        "outputId": "310c2e22-ae37-457a-89f8-2e84bbe0c501"
      },
      "execution_count": 11,
      "outputs": [
        {
          "output_type": "stream",
          "name": "stdout",
          "text": [
            "Masukkan Password: abc\n",
            "Password terlalu pendek\n"
          ]
        }
      ]
    },
    {
      "cell_type": "markdown",
      "source": [
        "### Praktikum 04 – String Formatting dengan F-String"
      ],
      "metadata": {
        "id": "kn47rwyWAzJb"
      }
    },
    {
      "cell_type": "code",
      "source": [
        "nama = str(input(\"Masukkan nama: \"))\n",
        "umur = int(input(\"Masukkan umur: \"))\n",
        "\n",
        "print(f\"Nama saya {nama}, umur {umur} tahun\")"
      ],
      "metadata": {
        "colab": {
          "base_uri": "https://localhost:8080/"
        },
        "id": "Msbh65XuDw_K",
        "outputId": "2c72cf7e-6076-4ce6-a46c-bbda2190228a"
      },
      "execution_count": 16,
      "outputs": [
        {
          "output_type": "stream",
          "name": "stdout",
          "text": [
            "Masukkan nama: Budi\n",
            "Masukkan umur: 21\n",
            "Nama saya Budi, umur 21 tahun\n"
          ]
        }
      ]
    },
    {
      "cell_type": "markdown",
      "source": [
        "### Praktikum 05 – Operasi dalam F-String"
      ],
      "metadata": {
        "id": "F5khM52dAy_R"
      }
    },
    {
      "cell_type": "code",
      "source": [
        "a = int(input(\"Masukkan a: \"))\n",
        "b = int(input(\"Masukkan b: \"))\n",
        "\n",
        "print(f\"Hasil penjumlahan {a} + {b} = {a+b}\")\n",
        "print(f\"Hasil pembagian {a} / {b} = {a/b:.2f}\")"
      ],
      "metadata": {
        "colab": {
          "base_uri": "https://localhost:8080/"
        },
        "id": "4K28iyNrGS8j",
        "outputId": "4a0c2d4b-848c-4b74-b692-8e6cbf5548c2"
      },
      "execution_count": 21,
      "outputs": [
        {
          "output_type": "stream",
          "name": "stdout",
          "text": [
            "Masukkan a: 10\n",
            "Masukkan b: 3\n",
            "Hasil penjumlahan 10 + 3 = 13\n",
            "Hasil pembagian 10 / 3 = 3.33\n"
          ]
        }
      ]
    },
    {
      "cell_type": "markdown",
      "source": [
        "### Praktikum 06 – Casting String"
      ],
      "metadata": {
        "id": "TLldeDhXAyy0"
      }
    },
    {
      "cell_type": "code",
      "source": [
        "angka = 123\n",
        "teks = \"456\"\n",
        "print(\"Nilai: \" + str(angka))\n",
        "print(int(teks) + 10)"
      ],
      "metadata": {
        "colab": {
          "base_uri": "https://localhost:8080/"
        },
        "id": "c6ZpKLS8HWui",
        "outputId": "efe18c5a-d588-49f2-f953-4f6c7c7332f8"
      },
      "execution_count": 26,
      "outputs": [
        {
          "output_type": "stream",
          "name": "stdout",
          "text": [
            "Nilai: 123\n",
            "466\n"
          ]
        }
      ]
    },
    {
      "cell_type": "markdown",
      "source": [
        "### Praktikum 07 – Studi Kasus Nyata: Analisis Kalimat"
      ],
      "metadata": {
        "id": "kGHL1S02H_WT"
      }
    },
    {
      "cell_type": "code",
      "execution_count": 27,
      "metadata": {
        "colab": {
          "base_uri": "https://localhost:8080/"
        },
        "id": "Z0471l0y-03m",
        "outputId": "2ea1e7c4-9fdf-4be3-a93c-2f2b5eafec1f"
      },
      "outputs": [
        {
          "output_type": "stream",
          "name": "stdout",
          "text": [
            "Jumlah kata: 6\n",
            "1 Saya\n",
            "2 kuliah\n",
            "3 di\n",
            "4 Politeknik\n",
            "5 Negeri\n",
            "6 Semarang\n"
          ]
        }
      ],
      "source": [
        "kalimat = \"Saya kuliah di Politeknik Negeri Semarang\"\n",
        "daftar_kata = kalimat.split(\" \")\n",
        "\n",
        "print(f\"Jumlah kata: {len(daftar_kata)}\")\n",
        "for i, kata in enumerate(daftar_kata, start=1):\n",
        "    print(i, kata)"
      ]
    },
    {
      "cell_type": "markdown",
      "source": [
        "# **Penugasan**"
      ],
      "metadata": {
        "id": "pL49d_EcJdak"
      }
    },
    {
      "cell_type": "markdown",
      "source": [
        "### Indexing dan Slicing"
      ],
      "metadata": {
        "id": "yMAM5w3DJlqS"
      }
    },
    {
      "cell_type": "code",
      "source": [
        "teks = \"Politeknik Negeri Semarang\"\n",
        "print(teks[0])\n",
        "print(teks[25])\n",
        "print(teks[-15:-9])"
      ],
      "metadata": {
        "colab": {
          "base_uri": "https://localhost:8080/"
        },
        "id": "CIUUKJvlJga-",
        "outputId": "b23179b8-7fc7-4dee-9b09-4d797e2f64e9"
      },
      "execution_count": 35,
      "outputs": [
        {
          "output_type": "stream",
          "name": "stdout",
          "text": [
            "P\n",
            "g\n",
            "Negeri\n"
          ]
        }
      ]
    },
    {
      "cell_type": "markdown",
      "source": [
        "### Manipulasi String"
      ],
      "metadata": {
        "id": "A_76RQxrKmgp"
      }
    },
    {
      "cell_type": "code",
      "source": [
        "teks = \" Politeknik Negeri Semarang \"\n",
        "print(teks.upper())\n",
        "print(teks.lower())\n",
        "print(len(teks))"
      ],
      "metadata": {
        "colab": {
          "base_uri": "https://localhost:8080/"
        },
        "id": "mQz0v-saKoN-",
        "outputId": "608abbca-2a62-4dc1-e401-eef0d611d333"
      },
      "execution_count": 41,
      "outputs": [
        {
          "output_type": "stream",
          "name": "stdout",
          "text": [
            " POLITEKNIK NEGERI SEMARANG \n",
            " politeknik negeri semarang \n",
            "28\n"
          ]
        }
      ]
    },
    {
      "cell_type": "markdown",
      "source": [
        "### Validasi Username"
      ],
      "metadata": {
        "id": "a3xmgzxXNObR"
      }
    },
    {
      "cell_type": "code",
      "source": [
        "usn = (str(input(\"Masukkan Username: \")))\n",
        "if ' ' in usn:\n",
        "  print(\"ERROR: Username tidak boleh mengandung spasi!\")\n",
        "else:\n",
        "  print(\"Username Valid\")"
      ],
      "metadata": {
        "colab": {
          "base_uri": "https://localhost:8080/"
        },
        "id": "KTrd8AU3NW99",
        "outputId": "8de2d9df-80b8-4043-a882-4b49ee96a9fa"
      },
      "execution_count": 49,
      "outputs": [
        {
          "output_type": "stream",
          "name": "stdout",
          "text": [
            "Masukkan Username: victor 1\n",
            "ERROR: Username tidak boleh mengandung spasi!\n"
          ]
        }
      ]
    },
    {
      "cell_type": "markdown",
      "source": [
        "### String Formatting dengan F-String"
      ],
      "metadata": {
        "id": "pdw7qFeBP_KT"
      }
    },
    {
      "cell_type": "code",
      "source": [
        "nama = str(input(\"Masukkan Nama: \"))\n",
        "umur = int(input(\"Masukkan Umur: \"))\n",
        "jurusan = str(input(\"Masukkan Jurusan: \"))\n",
        "\n",
        "print(f\"Nama: {nama}\")\n",
        "print(f\"Umur: {umur}\")\n",
        "print(f\"Jurusan: {jurusan}\")"
      ],
      "metadata": {
        "colab": {
          "base_uri": "https://localhost:8080/"
        },
        "id": "7AqQx1NlQAV_",
        "outputId": "0bd2f4df-0297-47be-f82c-0ecddb6eeef4"
      },
      "execution_count": 50,
      "outputs": [
        {
          "output_type": "stream",
          "name": "stdout",
          "text": [
            "Masukkan Nama: Andi\n",
            "Masukkan Umur: 20\n",
            "Masukkan Jurusan: Teknologi Rekayasa Komputer\n",
            "Nama: Andi\n",
            "Umur: 20\n",
            "Jurusan: Teknologi Rekayasa Komputer\n"
          ]
        }
      ]
    },
    {
      "cell_type": "markdown",
      "source": [
        "### Operasi dalam F-String"
      ],
      "metadata": {
        "id": "JbxAWw9yRdIY"
      }
    },
    {
      "cell_type": "code",
      "source": [
        "a = int(input(\"Masukkan a: \"))\n",
        "b = int(input(\"Masukkan b: \"))\n",
        "\n",
        "print(f\"Hasil penjumlahan {a} + {b} = {a+b}\")\n",
        "print(f\"Hasil perkalian   {a} X {b} = {a*b}\")\n",
        "print(f\"Hasil pembagian   {a} / {b} = {a/b:.3f}\")"
      ],
      "metadata": {
        "colab": {
          "base_uri": "https://localhost:8080/"
        },
        "id": "HqQRu6gdRg9f",
        "outputId": "883ea37b-c098-41a6-f47b-47a2e7e9e047"
      },
      "execution_count": 52,
      "outputs": [
        {
          "output_type": "stream",
          "name": "stdout",
          "text": [
            "Masukkan a: 10\n",
            "Masukkan b: 3\n",
            "Hasil penjumlahan 10 + 3 = 13\n",
            "Hasil perkalian   10 X 3 = 30\n",
            "Hasil pembagian   10 / 3 = 3.333\n"
          ]
        }
      ]
    },
    {
      "cell_type": "markdown",
      "source": [
        "### Casting Data"
      ],
      "metadata": {
        "id": "XgEDjUc0R-GV"
      }
    },
    {
      "cell_type": "code",
      "source": [
        "angka = str(input(\"Masukkan angka: \"))\n",
        "print(f\"{int(angka)**2}\")\n",
        "print(f\"{float(angka):.2f}\")"
      ],
      "metadata": {
        "colab": {
          "base_uri": "https://localhost:8080/"
        },
        "id": "OYdGNQ7AR-o8",
        "outputId": "bf9632bd-36f8-454c-f890-63fde3c3a441"
      },
      "execution_count": 67,
      "outputs": [
        {
          "output_type": "stream",
          "name": "stdout",
          "text": [
            "Masukkan angka: 5\n",
            "25\n",
            "5.00\n"
          ]
        }
      ]
    },
    {
      "cell_type": "markdown",
      "source": [
        "### Studi Kasus – Analisis Teks"
      ],
      "metadata": {
        "id": "sdb0h10HVB61"
      }
    },
    {
      "cell_type": "code",
      "source": [
        "kalimat = \"Saya kuliah di Politeknik Negeri Semarang\"\n",
        "daftar_kata = kalimat.split(\" \")\n",
        "\n",
        "print(f\"Jumlah kata: {len(daftar_kata)}\")\n",
        "print (f\"Kata terpanjang adalah: {max(daftar_kata, key=len)}\")\n",
        "for i, kata in enumerate(daftar_kata, start=1):\n",
        "    print(i, kata)"
      ],
      "metadata": {
        "colab": {
          "base_uri": "https://localhost:8080/"
        },
        "id": "n9D5EnMEVDHZ",
        "outputId": "97e13bb2-1ede-4475-ac48-95bb13cae68d"
      },
      "execution_count": 70,
      "outputs": [
        {
          "output_type": "stream",
          "name": "stdout",
          "text": [
            "Jumlah kata: 6\n",
            "Kata terpanjang adalah: Politeknik\n",
            "1 Saya\n",
            "2 kuliah\n",
            "3 di\n",
            "4 Politeknik\n",
            "5 Negeri\n",
            "6 Semarang\n"
          ]
        }
      ]
    }
  ]
}