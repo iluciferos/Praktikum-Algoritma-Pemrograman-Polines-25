{
  "nbformat": 4,
  "nbformat_minor": 0,
  "metadata": {
    "colab": {
      "provenance": [],
      "collapsed_sections": [
        "gsv-T019iZe3",
        "H25m7AMlSQxL",
        "AA8hx4ZMSu6i",
        "ZrnZAo2UUAQY",
        "UKRemkhNicjt",
        "vV-BULcjig4x",
        "wtY-VzjVlC81",
        "m_YM5vWhoIm-",
        "QsmbPM9epA5_",
        "ro_zBl7ks2tj",
        "20xmRCmRvCTX",
        "rq0kIUtUvsX-"
      ],
      "authorship_tag": "ABX9TyNegMuKRAeuoDA+ZT81mwnO",
      "include_colab_link": true
    },
    "kernelspec": {
      "name": "python3",
      "display_name": "Python 3"
    },
    "language_info": {
      "name": "python"
    }
  },
  "cells": [
    {
      "cell_type": "markdown",
      "metadata": {
        "id": "view-in-github",
        "colab_type": "text"
      },
      "source": [
        "<a href=\"https://colab.research.google.com/github/iluciferos/Praktikum-Algoritma-Pemrograman-Polines-25/blob/Jobsheet-4/Jobsheet_4.ipynb\" target=\"_parent\"><img src=\"https://colab.research.google.com/assets/colab-badge.svg\" alt=\"Open In Colab\"/></a>"
      ]
    },
    {
      "cell_type": "markdown",
      "source": [
        "# PRAKTIKUM"
      ],
      "metadata": {
        "id": "gsv-T019iZe3"
      }
    },
    {
      "cell_type": "markdown",
      "source": [
        "### Praktikum 1 - Perulangan For dengan Range"
      ],
      "metadata": {
        "id": "H25m7AMlSQxL"
      }
    },
    {
      "cell_type": "code",
      "execution_count": 2,
      "metadata": {
        "colab": {
          "base_uri": "https://localhost:8080/"
        },
        "id": "HT8X-yKqSNDS",
        "outputId": "48c33460-8227-44ad-ce89-4c70a140d171"
      },
      "outputs": [
        {
          "output_type": "stream",
          "name": "stdout",
          "text": [
            "1\n",
            "2\n",
            "3\n",
            "4\n",
            "5\n"
          ]
        }
      ],
      "source": [
        "for i in range(1,6):\n",
        "  print (i)"
      ]
    },
    {
      "cell_type": "markdown",
      "source": [
        "### Praktikum 2 - Perulangan While"
      ],
      "metadata": {
        "id": "AA8hx4ZMSu6i"
      }
    },
    {
      "cell_type": "code",
      "source": [
        "n = int(input(\"Masukkan angka = \"))\n",
        "while n > 0:\n",
        "  print (n)\n",
        "  n -= 1"
      ],
      "metadata": {
        "colab": {
          "base_uri": "https://localhost:8080/"
        },
        "id": "_LmHtSsASjPw",
        "outputId": "6f7d769c-e75e-4771-b758-5a4a4702a5c9"
      },
      "execution_count": 5,
      "outputs": [
        {
          "output_type": "stream",
          "name": "stdout",
          "text": [
            "Masukkan angka = 5\n",
            "5\n",
            "4\n",
            "3\n",
            "2\n",
            "1\n"
          ]
        }
      ]
    },
    {
      "cell_type": "markdown",
      "source": [
        "### Praktikum 03 – Nested Loop (Segitiga Bintang)"
      ],
      "metadata": {
        "id": "FKXoCOnlTbxI"
      }
    },
    {
      "cell_type": "code",
      "source": [
        "for i in range (1,6):\n",
        "  for j in range (i):\n",
        "    print(\"*\", end=\"\")\n",
        "  print()"
      ],
      "metadata": {
        "colab": {
          "base_uri": "https://localhost:8080/"
        },
        "id": "_OYi6XynTLDR",
        "outputId": "d3b33525-3253-4e82-d725-f97a4c5a75c7"
      },
      "execution_count": 41,
      "outputs": [
        {
          "output_type": "stream",
          "name": "stdout",
          "text": [
            "*\n",
            "**\n",
            "***\n",
            "****\n",
            "*****\n"
          ]
        }
      ]
    },
    {
      "cell_type": "markdown",
      "source": [
        "### Praktikum 04 – Break dan Continue"
      ],
      "metadata": {
        "id": "ZrnZAo2UUAQY"
      }
    },
    {
      "cell_type": "code",
      "source": [
        "#Break\n",
        "for i in range (1,11):\n",
        "  if i == 5 :\n",
        "    print (\"Angka 5 ditemukan\")"
      ],
      "metadata": {
        "colab": {
          "base_uri": "https://localhost:8080/"
        },
        "id": "rXE0q_pzUBVq",
        "outputId": "b8899b4d-496c-4db8-b6c0-a5012ed3c2b7"
      },
      "execution_count": 9,
      "outputs": [
        {
          "output_type": "stream",
          "name": "stdout",
          "text": [
            "Angka 5 ditemukan\n"
          ]
        }
      ]
    },
    {
      "cell_type": "code",
      "source": [
        "#Continue\n",
        "for i in range (1,6):\n",
        "  if i % 2 == 1:\n",
        "      continue\n",
        "  print(i)"
      ],
      "metadata": {
        "colab": {
          "base_uri": "https://localhost:8080/"
        },
        "id": "JOVMxqDSUdFP",
        "outputId": "4adf42b9-5552-4348-d0c5-f0fd59d5e09e"
      },
      "execution_count": 18,
      "outputs": [
        {
          "output_type": "stream",
          "name": "stdout",
          "text": [
            "2\n",
            "4\n"
          ]
        }
      ]
    },
    {
      "cell_type": "markdown",
      "source": [
        "### Praktikum 05 – For pada Dictionary"
      ],
      "metadata": {
        "id": "kDAOkgcKWX1M"
      }
    },
    {
      "cell_type": "code",
      "source": [
        "data = {\"Nama\": \"{Andi}\", \"Umur\":20, \"Prodi\": \"TRK\"}\n",
        "\n",
        "for k,v in data.items():\n",
        "  print (k, \":\", v)"
      ],
      "metadata": {
        "colab": {
          "base_uri": "https://localhost:8080/"
        },
        "id": "lnzdU3LhUrob",
        "outputId": "4c3bb3d3-b116-49ff-eafa-08be2adf5d35"
      },
      "execution_count": 19,
      "outputs": [
        {
          "output_type": "stream",
          "name": "stdout",
          "text": [
            "Nama : {Andi}\n",
            "Umur : 20\n",
            "Prodi : TRK\n"
          ]
        }
      ]
    },
    {
      "cell_type": "markdown",
      "source": [
        "### Praktikum 06 – For dengan Enumerate"
      ],
      "metadata": {
        "id": "5VODwa5qWaLq"
      }
    },
    {
      "cell_type": "code",
      "source": [
        "daftar = [\"Andi\",\"Budi\",\"Cici\"]\n",
        "\n",
        "for i,nama in enumerate(daftar, start=1):\n",
        "  print (i, nama)"
      ],
      "metadata": {
        "colab": {
          "base_uri": "https://localhost:8080/"
        },
        "id": "Zs9S6X3RWdE1",
        "outputId": "91c6446e-9a86-400c-a3b9-c52f6b52d37b"
      },
      "execution_count": 24,
      "outputs": [
        {
          "output_type": "stream",
          "name": "stdout",
          "text": [
            "1 Andi\n",
            "2 Budi\n",
            "3 Cici\n"
          ]
        }
      ]
    },
    {
      "cell_type": "markdown",
      "source": [
        "### Praktikum 07 – Studi Kasus: Program Kasir Multi-Item"
      ],
      "metadata": {
        "id": "GhuyBDK_Xprd"
      }
    },
    {
      "cell_type": "code",
      "source": [
        "total = 0\n",
        "while True :\n",
        "  b = (str(input(\"Input nama barang (ketik 'selesai' untuk berhenti): \")))\n",
        "  if b.lower() == \"selesai\":\n",
        "    break\n",
        "  harga = (float(input(f\"Input harga {b}: \")))\n",
        "  jumlah = (int(input(f\"Input jumlah {b}: \")))\n",
        "  subtotal = harga * jumlah\n",
        "  total += subtotal\n",
        "  #2 total = total + (harga * jumlah)\n",
        "\n",
        "print (\"\\n========= Struk Belanja =========\")\n",
        "print (f\"Total belanja adalah : Rp {total}\")"
      ],
      "metadata": {
        "colab": {
          "base_uri": "https://localhost:8080/"
        },
        "id": "QU_saglYXtbz",
        "outputId": "3363d40d-d18c-4252-b979-f2e751e0a834"
      },
      "execution_count": 39,
      "outputs": [
        {
          "output_type": "stream",
          "name": "stdout",
          "text": [
            "Input nama barang (ketik 'selesai' untuk berhenti): babi\n",
            "Input harga babi: 9000\n",
            "Input jumlah babi: 2\n",
            "Input nama barang (ketik 'selesai' untuk berhenti): selesai\n",
            "\n",
            "========= Struk Belanja =========\n",
            "Total belanja adalah : Rp 18000.0\n"
          ]
        }
      ]
    },
    {
      "cell_type": "markdown",
      "source": [
        "# **PENUGASAN**"
      ],
      "metadata": {
        "id": "UKRemkhNicjt"
      }
    },
    {
      "cell_type": "markdown",
      "source": [
        "### Menampilkan Deret Angka"
      ],
      "metadata": {
        "id": "vV-BULcjig4x"
      }
    },
    {
      "cell_type": "code",
      "source": [
        "for i in range(3,31,3):\n",
        "  print (i)"
      ],
      "metadata": {
        "colab": {
          "base_uri": "https://localhost:8080/"
        },
        "id": "RANDIvfgijN0",
        "outputId": "6f1ea09f-f847-476c-ad78-2ca0d5de4108"
      },
      "execution_count": 52,
      "outputs": [
        {
          "output_type": "stream",
          "name": "stdout",
          "text": [
            "3\n",
            "6\n",
            "9\n",
            "12\n",
            "15\n",
            "18\n",
            "21\n",
            "24\n",
            "27\n",
            "30\n"
          ]
        }
      ]
    },
    {
      "cell_type": "markdown",
      "source": [
        "### Hitung Faktorial"
      ],
      "metadata": {
        "id": "wtY-VzjVlC81"
      }
    },
    {
      "cell_type": "code",
      "source": [
        "a = int(input(\"Masukkan angka: \"))\n",
        "i = 1\n",
        "faktorial = 1\n",
        "while i <= a:\n",
        "  faktorial = faktorial * i\n",
        "  i = i + 1\n",
        "print (f\"hasil faktorial dari {a} adalah {faktorial}\")"
      ],
      "metadata": {
        "colab": {
          "base_uri": "https://localhost:8080/"
        },
        "id": "2q6MYdoVlFf_",
        "outputId": "bf3d32b3-ce70-443a-e615-c6e8ae2dbca6"
      },
      "execution_count": 66,
      "outputs": [
        {
          "output_type": "stream",
          "name": "stdout",
          "text": [
            "Masukkan angka: 5\n",
            "hasil faktorial dari 5 adalah 120\n"
          ]
        }
      ]
    },
    {
      "cell_type": "markdown",
      "source": [
        "### Pola Segitiga Terbalik"
      ],
      "metadata": {
        "id": "m_YM5vWhoIm-"
      }
    },
    {
      "cell_type": "code",
      "source": [
        "tinggi = 5\n",
        "for i in range (tinggi, 0, -1):\n",
        "  for j in range (i):\n",
        "    print(\"*\", end=\"\")\n",
        "  print()"
      ],
      "metadata": {
        "colab": {
          "base_uri": "https://localhost:8080/"
        },
        "id": "r8z1qjBooMg2",
        "outputId": "879412d5-2d46-4247-bc2f-4617ebf34b62"
      },
      "execution_count": 74,
      "outputs": [
        {
          "output_type": "stream",
          "name": "stdout",
          "text": [
            "*****\n",
            "****\n",
            "***\n",
            "**\n",
            "*\n"
          ]
        }
      ]
    },
    {
      "cell_type": "markdown",
      "source": [
        "### Cari Bilangan Prima dengan Break"
      ],
      "metadata": {
        "id": "QsmbPM9epA5_"
      }
    },
    {
      "cell_type": "code",
      "source": [
        "a = int(input(\"Masukkan bilangan bulat: \"))\n",
        "prima = True\n",
        "if a <= 1:\n",
        "    prima = False\n",
        "else:\n",
        "    for i in range (2, int(a**0.5) + 1):\n",
        "        if a % i ==0:\n",
        "            prima = False\n",
        "            print (f\"Bukan bilangan Prima, karena habis dibagi {i}.\")\n",
        "            break\n",
        "if prima:\n",
        "  print(f\"{a} adalah bilangan prima.\")\n",
        "elif a > 1:\n",
        "  pass\n",
        "else:\n",
        "  print(f\"{a} bukan bilangan prima.\")"
      ],
      "metadata": {
        "colab": {
          "base_uri": "https://localhost:8080/"
        },
        "id": "OG1o54KwpCCh",
        "outputId": "e820205b-e1eb-44cf-af0e-8dac9fc2baae"
      },
      "execution_count": 101,
      "outputs": [
        {
          "output_type": "stream",
          "name": "stdout",
          "text": [
            "Masukkan bilangan bulat: 1\n",
            "1 bukan bilangan prima.\n"
          ]
        }
      ]
    },
    {
      "cell_type": "markdown",
      "source": [
        "### Tampilkan Hanya Bilangan Genap dengan Continue"
      ],
      "metadata": {
        "id": "ro_zBl7ks2tj"
      }
    },
    {
      "cell_type": "code",
      "source": [
        "#Continue\n",
        "for i in range (1,21):\n",
        "  if i % 2 !=0 :\n",
        "      continue\n",
        "  print(i)"
      ],
      "metadata": {
        "colab": {
          "base_uri": "https://localhost:8080/"
        },
        "id": "3LpFNJ99s3vi",
        "outputId": "66b36c78-0c46-46ed-db31-9080b23fdab7"
      },
      "execution_count": 108,
      "outputs": [
        {
          "output_type": "stream",
          "name": "stdout",
          "text": [
            "2\n",
            "4\n",
            "6\n",
            "8\n",
            "10\n",
            "12\n",
            "14\n",
            "16\n",
            "18\n",
            "20\n"
          ]
        }
      ]
    },
    {
      "cell_type": "markdown",
      "source": [
        "### Iterasi Dictionary Mahasiswa"
      ],
      "metadata": {
        "id": "20xmRCmRvCTX"
      }
    },
    {
      "cell_type": "code",
      "source": [
        "mahasiswa = {\"Nama\": \"Budi\", \"Umur\":21, \"Prodi\": \"Teknik Komputer\"}\n",
        "\n",
        "for k,v in mahasiswa.items():\n",
        "  print (k, \":\", v)"
      ],
      "metadata": {
        "colab": {
          "base_uri": "https://localhost:8080/"
        },
        "id": "pXi0MaN5vIQA",
        "outputId": "74c42d20-83ef-41fe-f43a-4c4afb788421"
      },
      "execution_count": 111,
      "outputs": [
        {
          "output_type": "stream",
          "name": "stdout",
          "text": [
            "Nama : Budi\n",
            "Umur : 21\n",
            "Prodi : Teknik Komputer\n"
          ]
        }
      ]
    },
    {
      "cell_type": "markdown",
      "source": [
        "### Enumerate Daftar Barang"
      ],
      "metadata": {
        "id": "rq0kIUtUvsX-"
      }
    },
    {
      "cell_type": "code",
      "source": [
        "daftarBarang = [\"Buku\",\"Pulpen\",\"Tas\"]\n",
        "\n",
        "for i,nama in enumerate(daftarBarang, start=1):\n",
        "  print (i, nama)"
      ],
      "metadata": {
        "colab": {
          "base_uri": "https://localhost:8080/"
        },
        "id": "tXJ462Yivtic",
        "outputId": "5de5d1bd-ecba-4729-88e1-4377603d4979"
      },
      "execution_count": 113,
      "outputs": [
        {
          "output_type": "stream",
          "name": "stdout",
          "text": [
            "1 Buku\n",
            "2 Pulpen\n",
            "3 Tas\n"
          ]
        }
      ]
    },
    {
      "cell_type": "markdown",
      "source": [
        "### Studi Kasus – Kasir Diskon"
      ],
      "metadata": {
        "id": "HQbgmImdwDXB"
      }
    },
    {
      "cell_type": "code",
      "source": [
        "total = 0\n",
        "while True :\n",
        "  b = (str(input(\"Input nama barang (ketik 'selesai' untuk berhenti): \")))\n",
        "  if b.lower() == \"selesai\":\n",
        "    break\n",
        "  harga = (float(input(f\"Input harga {b}: \")))\n",
        "  jumlah = (int(input(f\"Input jumlah {b}: \")))\n",
        "  total = total + (harga * jumlah)\n",
        "\n",
        "if total >= 200000:\n",
        "    diskon = total * 0.1\n",
        "\n",
        "totalBayar = total - diskon\n",
        "\n",
        "print (\"\\n========= Struk Belanja =========\")\n",
        "print (f\"Total belanja adalah : Rp {total}\")\n",
        "print (f\"Total diskon adalah : Rp {diskon}\")\n",
        "print (f\"Total Bayar adalah : Rp {totalBayar}\")"
      ],
      "metadata": {
        "colab": {
          "base_uri": "https://localhost:8080/"
        },
        "id": "AINjRosWwD8m",
        "outputId": "21d383e4-bfcd-4b33-f2f5-52b3ce4051d3"
      },
      "execution_count": 125,
      "outputs": [
        {
          "output_type": "stream",
          "name": "stdout",
          "text": [
            "Input nama barang (ketik 'selesai' untuk berhenti): Ban Depan\n",
            "Input harga Ban Depan: 200000\n",
            "Input jumlah Ban Depan: 2\n",
            "Input nama barang (ketik 'selesai' untuk berhenti): Ban Belakang\n",
            "Input harga Ban Belakang: 200000\n",
            "Input jumlah Ban Belakang: 2\n",
            "Input nama barang (ketik 'selesai' untuk berhenti): selesai\n",
            "\n",
            "========= Struk Belanja =========\n",
            "Total belanja adalah : Rp 800000.0\n",
            "Total diskon adalah : Rp 80000.0\n",
            "Total Bayar adalah : Rp 720000.0\n"
          ]
        }
      ]
    }
  ]
}